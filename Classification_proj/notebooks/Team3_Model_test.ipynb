{
  "nbformat": 4,
  "nbformat_minor": 0,
  "metadata": {
    "colab": {
      "name": "Team3_Model_test.ipynb",
      "provenance": []
    },
    "kernelspec": {
      "name": "python3",
      "display_name": "Python 3"
    }
  },
  "cells": [
    {
      "cell_type": "code",
      "metadata": {
        "colab": {
          "base_uri": "https://localhost:8080/"
        },
        "id": "4EV6sP41Nvdj",
        "outputId": "a1bda3c1-5b88-49e3-f49b-483037a28a10"
      },
      "source": [
        "from google.colab import drive\n",
        "drive.mount('/content/drive')"
      ],
      "execution_count": null,
      "outputs": [
        {
          "output_type": "stream",
          "text": [
            "Drive already mounted at /content/drive; to attempt to forcibly remount, call drive.mount(\"/content/drive\", force_remount=True).\n"
          ],
          "name": "stdout"
        }
      ]
    },
    {
      "cell_type": "code",
      "metadata": {
        "id": "HPXsgsZq0ypB",
        "colab": {
          "base_uri": "https://localhost:8080/"
        },
        "outputId": "9cfa789b-46b3-4972-885f-9f50bf278fba"
      },
      "source": [
        "!git clone https://github.com/Jungminchae/Team3_repo.git"
      ],
      "execution_count": null,
      "outputs": [
        {
          "output_type": "stream",
          "text": [
            "Cloning into 'Team3_repo'...\n",
            "remote: Enumerating objects: 292, done.\u001b[K\n",
            "remote: Counting objects: 100% (292/292), done.\u001b[K\n",
            "remote: Compressing objects: 100% (215/215), done.\u001b[K\n",
            "remote: Total 292 (delta 124), reused 227 (delta 66), pack-reused 0\u001b[K\n",
            "Receiving objects: 100% (292/292), 7.03 MiB | 28.01 MiB/s, done.\n",
            "Resolving deltas: 100% (124/124), done.\n"
          ],
          "name": "stdout"
        }
      ]
    },
    {
      "cell_type": "code",
      "metadata": {
        "colab": {
          "base_uri": "https://localhost:8080/"
        },
        "id": "b8Uc6201ykYg",
        "outputId": "8b9fd6c3-195d-494e-9d22-f2f7cdc272f0"
      },
      "source": [
        "# 모델 번호 확인 \n",
        "!python Team3_repo/hackathon/food_30/main.py --test_model_check true --models_dir '/content/drive/Shareddrives/GOFOODA/data/models'"
      ],
      "execution_count": null,
      "outputs": [
        {
          "output_type": "stream",
          "text": [
            "2020-11-18 07:24:26.094356: I tensorflow/stream_executor/platform/default/dso_loader.cc:48] Successfully opened dynamic library libcudart.so.10.1\n",
            "{0: 'VGG16', 1: 'NASNetMobile', 2: 'MobileNet', 3: 'MobileNetV2', 4: 'DenseNet121', 5: 'EfficientNetB0', 6: 'EfficientNetB1', 7: 'Xception', 8: 'ResNet50', 9: 'InceptionV3', 10: 'EfficientNetB1'}\n"
          ],
          "name": "stdout"
        }
      ]
    },
    {
      "cell_type": "code",
      "metadata": {
        "colab": {
          "base_uri": "https://localhost:8080/"
        },
        "id": "YLeAmWUaIPMb",
        "outputId": "3730d966-cce1-4e5b-d1ec-4def8833459b"
      },
      "source": [
        "# 테스트 실행\n",
        "!python Team3_repo/hackathon/food_30/main.py --mode test \\\n",
        "--test_model_num 5 \\\n",
        "--test_image_path '/content/drive/Shareddrives/GOFOODA/data/test_image/*_*/*' \\\n",
        "--models_dir '/content/drive/Shareddrives/GOFOODA/data/models' \\\n",
        "--image_size 224"
      ],
      "execution_count": null,
      "outputs": [
        {
          "output_type": "stream",
          "text": [
            "2020-11-18 07:25:04.909105: I tensorflow/stream_executor/platform/default/dso_loader.cc:48] Successfully opened dynamic library libcudart.so.10.1\n",
            "Model 불러오는 중...\n",
            "2020-11-18 07:25:06.499164: I tensorflow/stream_executor/platform/default/dso_loader.cc:48] Successfully opened dynamic library libcuda.so.1\n",
            "2020-11-18 07:25:06.508591: E tensorflow/stream_executor/cuda/cuda_driver.cc:314] failed call to cuInit: CUDA_ERROR_NO_DEVICE: no CUDA-capable device is detected\n",
            "2020-11-18 07:25:06.508647: I tensorflow/stream_executor/cuda/cuda_diagnostics.cc:156] kernel driver does not appear to be running on this host (eddcfbfe20d3): /proc/driver/nvidia/version does not exist\n",
            "2020-11-18 07:25:06.516218: I tensorflow/core/platform/profile_utils/cpu_utils.cc:104] CPU Frequency: 2300000000 Hz\n",
            "2020-11-18 07:25:06.516503: I tensorflow/compiler/xla/service/service.cc:168] XLA service 0x2c44bc0 initialized for platform Host (this does not guarantee that XLA will be used). Devices:\n",
            "2020-11-18 07:25:06.516541: I tensorflow/compiler/xla/service/service.cc:176]   StreamExecutor device (0): Host, Default Version\n",
            "불러온 모델의 경로 : /content/drive/Shareddrives/GOFOODA/data/models/EfficientNetB0_checkpoint/6-0.11-0.97.h5\n",
            "완료\n",
            "\n",
            "100% 112/112 [01:06<00:00,  1.69it/s]\n",
            "정확도 : 76.79%\n"
          ],
          "name": "stdout"
        }
      ]
    },
    {
      "cell_type": "code",
      "metadata": {
        "id": "yUpOtbHQPhkk"
      },
      "source": [
        ""
      ],
      "execution_count": null,
      "outputs": []
    }
  ]
}