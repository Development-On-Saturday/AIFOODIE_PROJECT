{
  "nbformat": 4,
  "nbformat_minor": 0,
  "metadata": {
    "colab": {
      "name": "copy_images.ipynb",
      "provenance": []
    },
    "kernelspec": {
      "name": "python3",
      "display_name": "Python 3"
    },
    "widgets": {
      "application/vnd.jupyter.widget-state+json": {
        "57f17b8238884906ad11d50173d846a8": {
          "model_module": "@jupyter-widgets/controls",
          "model_name": "HBoxModel",
          "state": {
            "_view_name": "HBoxView",
            "_dom_classes": [],
            "_model_name": "HBoxModel",
            "_view_module": "@jupyter-widgets/controls",
            "_model_module_version": "1.5.0",
            "_view_count": null,
            "_view_module_version": "1.5.0",
            "box_style": "",
            "layout": "IPY_MODEL_61d6b1f8a12d4d98adf573e134ce144a",
            "_model_module": "@jupyter-widgets/controls",
            "children": [
              "IPY_MODEL_fe92a70f6f034d0c8f6b61ac4aec3481",
              "IPY_MODEL_fdd1b7e8f4cf45b1a861a0b6cd1b4a51"
            ]
          }
        },
        "61d6b1f8a12d4d98adf573e134ce144a": {
          "model_module": "@jupyter-widgets/base",
          "model_name": "LayoutModel",
          "state": {
            "_view_name": "LayoutView",
            "grid_template_rows": null,
            "right": null,
            "justify_content": null,
            "_view_module": "@jupyter-widgets/base",
            "overflow": null,
            "_model_module_version": "1.2.0",
            "_view_count": null,
            "flex_flow": null,
            "width": null,
            "min_width": null,
            "border": null,
            "align_items": null,
            "bottom": null,
            "_model_module": "@jupyter-widgets/base",
            "top": null,
            "grid_column": null,
            "overflow_y": null,
            "overflow_x": null,
            "grid_auto_flow": null,
            "grid_area": null,
            "grid_template_columns": null,
            "flex": null,
            "_model_name": "LayoutModel",
            "justify_items": null,
            "grid_row": null,
            "max_height": null,
            "align_content": null,
            "visibility": null,
            "align_self": null,
            "height": null,
            "min_height": null,
            "padding": null,
            "grid_auto_rows": null,
            "grid_gap": null,
            "max_width": null,
            "order": null,
            "_view_module_version": "1.2.0",
            "grid_template_areas": null,
            "object_position": null,
            "object_fit": null,
            "grid_auto_columns": null,
            "margin": null,
            "display": null,
            "left": null
          }
        },
        "fe92a70f6f034d0c8f6b61ac4aec3481": {
          "model_module": "@jupyter-widgets/controls",
          "model_name": "FloatProgressModel",
          "state": {
            "_view_name": "ProgressView",
            "style": "IPY_MODEL_9172a3e7f93f445082734dcd5075bd9a",
            "_dom_classes": [],
            "description": "100%",
            "_model_name": "FloatProgressModel",
            "bar_style": "success",
            "max": 112,
            "_view_module": "@jupyter-widgets/controls",
            "_model_module_version": "1.5.0",
            "value": 112,
            "_view_count": null,
            "_view_module_version": "1.5.0",
            "orientation": "horizontal",
            "min": 0,
            "description_tooltip": null,
            "_model_module": "@jupyter-widgets/controls",
            "layout": "IPY_MODEL_4e289b8820ac46019a1e400e983c979e"
          }
        },
        "fdd1b7e8f4cf45b1a861a0b6cd1b4a51": {
          "model_module": "@jupyter-widgets/controls",
          "model_name": "HTMLModel",
          "state": {
            "_view_name": "HTMLView",
            "style": "IPY_MODEL_8e82a75338d74fc181e716829bcb23ec",
            "_dom_classes": [],
            "description": "",
            "_model_name": "HTMLModel",
            "placeholder": "​",
            "_view_module": "@jupyter-widgets/controls",
            "_model_module_version": "1.5.0",
            "value": " 112/112 [02:23&lt;00:00,  1.29s/it]",
            "_view_count": null,
            "_view_module_version": "1.5.0",
            "description_tooltip": null,
            "_model_module": "@jupyter-widgets/controls",
            "layout": "IPY_MODEL_4f1b1b9b8a6b4cf98e6e2876245177bb"
          }
        },
        "9172a3e7f93f445082734dcd5075bd9a": {
          "model_module": "@jupyter-widgets/controls",
          "model_name": "ProgressStyleModel",
          "state": {
            "_view_name": "StyleView",
            "_model_name": "ProgressStyleModel",
            "description_width": "initial",
            "_view_module": "@jupyter-widgets/base",
            "_model_module_version": "1.5.0",
            "_view_count": null,
            "_view_module_version": "1.2.0",
            "bar_color": null,
            "_model_module": "@jupyter-widgets/controls"
          }
        },
        "4e289b8820ac46019a1e400e983c979e": {
          "model_module": "@jupyter-widgets/base",
          "model_name": "LayoutModel",
          "state": {
            "_view_name": "LayoutView",
            "grid_template_rows": null,
            "right": null,
            "justify_content": null,
            "_view_module": "@jupyter-widgets/base",
            "overflow": null,
            "_model_module_version": "1.2.0",
            "_view_count": null,
            "flex_flow": null,
            "width": null,
            "min_width": null,
            "border": null,
            "align_items": null,
            "bottom": null,
            "_model_module": "@jupyter-widgets/base",
            "top": null,
            "grid_column": null,
            "overflow_y": null,
            "overflow_x": null,
            "grid_auto_flow": null,
            "grid_area": null,
            "grid_template_columns": null,
            "flex": null,
            "_model_name": "LayoutModel",
            "justify_items": null,
            "grid_row": null,
            "max_height": null,
            "align_content": null,
            "visibility": null,
            "align_self": null,
            "height": null,
            "min_height": null,
            "padding": null,
            "grid_auto_rows": null,
            "grid_gap": null,
            "max_width": null,
            "order": null,
            "_view_module_version": "1.2.0",
            "grid_template_areas": null,
            "object_position": null,
            "object_fit": null,
            "grid_auto_columns": null,
            "margin": null,
            "display": null,
            "left": null
          }
        },
        "8e82a75338d74fc181e716829bcb23ec": {
          "model_module": "@jupyter-widgets/controls",
          "model_name": "DescriptionStyleModel",
          "state": {
            "_view_name": "StyleView",
            "_model_name": "DescriptionStyleModel",
            "description_width": "",
            "_view_module": "@jupyter-widgets/base",
            "_model_module_version": "1.5.0",
            "_view_count": null,
            "_view_module_version": "1.2.0",
            "_model_module": "@jupyter-widgets/controls"
          }
        },
        "4f1b1b9b8a6b4cf98e6e2876245177bb": {
          "model_module": "@jupyter-widgets/base",
          "model_name": "LayoutModel",
          "state": {
            "_view_name": "LayoutView",
            "grid_template_rows": null,
            "right": null,
            "justify_content": null,
            "_view_module": "@jupyter-widgets/base",
            "overflow": null,
            "_model_module_version": "1.2.0",
            "_view_count": null,
            "flex_flow": null,
            "width": null,
            "min_width": null,
            "border": null,
            "align_items": null,
            "bottom": null,
            "_model_module": "@jupyter-widgets/base",
            "top": null,
            "grid_column": null,
            "overflow_y": null,
            "overflow_x": null,
            "grid_auto_flow": null,
            "grid_area": null,
            "grid_template_columns": null,
            "flex": null,
            "_model_name": "LayoutModel",
            "justify_items": null,
            "grid_row": null,
            "max_height": null,
            "align_content": null,
            "visibility": null,
            "align_self": null,
            "height": null,
            "min_height": null,
            "padding": null,
            "grid_auto_rows": null,
            "grid_gap": null,
            "max_width": null,
            "order": null,
            "_view_module_version": "1.2.0",
            "grid_template_areas": null,
            "object_position": null,
            "object_fit": null,
            "grid_auto_columns": null,
            "margin": null,
            "display": null,
            "left": null
          }
        }
      }
    }
  },
  "cells": [
    {
      "cell_type": "code",
      "metadata": {
        "id": "delj6EvTaBz_"
      },
      "source": [
        "import os\n",
        "from glob import glob\n",
        "import shutil"
      ],
      "execution_count": null,
      "outputs": []
    },
    {
      "cell_type": "code",
      "metadata": {
        "id": "ObKzjW1sabnR",
        "outputId": "b9f2713f-9564-423e-aaba-34bd95ca1297",
        "colab": {
          "base_uri": "https://localhost:8080/"
        }
      },
      "source": [
        "target_path = '/content/drive/Shareddrives/GOFOODA/data'\n",
        "target_path = os.path.join(target_path, 'test_image')\n",
        "target_path\n",
        "os.path.exists(target_path)"
      ],
      "execution_count": null,
      "outputs": [
        {
          "output_type": "execute_result",
          "data": {
            "text/plain": [
              "True"
            ]
          },
          "metadata": {
            "tags": []
          },
          "execution_count": 57
        }
      ]
    },
    {
      "cell_type": "markdown",
      "metadata": {
        "id": "SRMR_rDCB5q-"
      },
      "source": [
        "## 현재 30개에 클래스에 대한 딕셔너리 생성\n",
        "- food : class_num"
      ]
    },
    {
      "cell_type": "code",
      "metadata": {
        "id": "AvAlYjTb3oCA",
        "outputId": "74463977-1fb3-4875-a9d2-e8b99f430f88",
        "colab": {
          "base_uri": "https://localhost:8080/"
        }
      },
      "source": [
        "food_classes = os.listdir('/content/drive/Shareddrives/GOFOODA/data/food30')\n",
        "food_classes"
      ],
      "execution_count": null,
      "outputs": [
        {
          "output_type": "execute_result",
          "data": {
            "text/plain": [
              "['비빔밥',\n",
              " '새우볶음밥',\n",
              " '소세지볶음',\n",
              " '제육볶음',\n",
              " '계란말이',\n",
              " '육개장',\n",
              " '갈비구이',\n",
              " '삼겹살',\n",
              " '갈치구이',\n",
              " '김밥',\n",
              " '김치볶음밥',\n",
              " '짬뽕',\n",
              " '만두',\n",
              " '찜닭',\n",
              " '감자탕',\n",
              " '갈치조림',\n",
              " '곱창전골',\n",
              " '김치찌개',\n",
              " '김치전',\n",
              " '닭볶음탕',\n",
              " '생선전',\n",
              " '파전',\n",
              " '된장찌개',\n",
              " '갈비탕',\n",
              " '곰탕_설렁탕',\n",
              " '고추튀김',\n",
              " '후라이드치킨',\n",
              " '피자',\n",
              " '양념치킨',\n",
              " '육회']"
            ]
          },
          "metadata": {
            "tags": []
          },
          "execution_count": 58
        }
      ]
    },
    {
      "cell_type": "code",
      "metadata": {
        "id": "3akgvyHqaffg"
      },
      "source": [
        "food_classes.sort()\n",
        "class_dict = {}\n",
        "for idx, value in enumerate(food_classes):\n",
        "    class_dict[value] = idx"
      ],
      "execution_count": null,
      "outputs": []
    },
    {
      "cell_type": "code",
      "metadata": {
        "id": "lRPbBWjYa_nO",
        "outputId": "cea6cc74-e0da-4d82-e516-e03db444e621",
        "colab": {
          "base_uri": "https://localhost:8080/"
        }
      },
      "source": [
        "class_dict"
      ],
      "execution_count": null,
      "outputs": [
        {
          "output_type": "execute_result",
          "data": {
            "text/plain": [
              "{'갈비구이': 0,\n",
              " '갈비탕': 1,\n",
              " '갈치구이': 2,\n",
              " '갈치조림': 3,\n",
              " '감자탕': 4,\n",
              " '계란말이': 5,\n",
              " '고추튀김': 6,\n",
              " '곰탕_설렁탕': 7,\n",
              " '곱창전골': 8,\n",
              " '김밥': 9,\n",
              " '김치볶음밥': 10,\n",
              " '김치전': 11,\n",
              " '김치찌개': 12,\n",
              " '닭볶음탕': 13,\n",
              " '된장찌개': 14,\n",
              " '만두': 15,\n",
              " '비빔밥': 16,\n",
              " '삼겹살': 17,\n",
              " '새우볶음밥': 18,\n",
              " '생선전': 19,\n",
              " '소세지볶음': 20,\n",
              " '양념치킨': 21,\n",
              " '육개장': 22,\n",
              " '육회': 23,\n",
              " '제육볶음': 24,\n",
              " '짬뽕': 25,\n",
              " '찜닭': 26,\n",
              " '파전': 27,\n",
              " '피자': 28,\n",
              " '후라이드치킨': 29}"
            ]
          },
          "metadata": {
            "tags": []
          },
          "execution_count": 64
        }
      ]
    },
    {
      "cell_type": "code",
      "metadata": {
        "id": "6_VQLW986ydS",
        "outputId": "a592830d-d46d-4470-c1dc-eb150bb6c015",
        "colab": {
          "base_uri": "https://localhost:8080/"
        }
      },
      "source": [
        "os.listdir(target_path)"
      ],
      "execution_count": null,
      "outputs": [
        {
          "output_type": "execute_result",
          "data": {
            "text/plain": [
              "['김치볶음밥',\n",
              " '감자탕',\n",
              " '찜닭',\n",
              " '갈비구이',\n",
              " '갈치구이',\n",
              " '육개장',\n",
              " '삼겹살']"
            ]
          },
          "metadata": {
            "tags": []
          },
          "execution_count": 65
        }
      ]
    },
    {
      "cell_type": "markdown",
      "metadata": {
        "id": "kTiJWi3cCH_z"
      },
      "source": [
        "## 새로운 경로 생성"
      ]
    },
    {
      "cell_type": "code",
      "metadata": {
        "id": "2Y7oqdz05BdT",
        "outputId": "a260bdd0-c628-426a-8777-49e5de512377",
        "colab": {
          "base_uri": "https://localhost:8080/"
        }
      },
      "source": [
        "dir_names = []\n",
        "new_dir_paths = []\n",
        "for food, class_num in list(class_dict.items()):\n",
        "    new_dir = f'{food}_{class_num}'\n",
        "    new_dir_path = os.path.join(target_path, new_dir)\n",
        "\n",
        "    if not os.path.exists(new_dir_path) :\n",
        "        new_dir_paths.append(new_dir_path)\n",
        "        os.makedirs(new_dir_path)\n",
        "        print(f'make directory : {new_dir_path}')\n",
        "    else :\n",
        "        if new_dir_path not in new_dir_paths :\n",
        "            new_dir_paths.append(new_dir_path)\n",
        "            print(f'{new_dir_path} exists')"
      ],
      "execution_count": null,
      "outputs": [
        {
          "output_type": "stream",
          "text": [
            "/content/drive/Shareddrives/GOFOODA/data/test_image/갈비구이_0 exists\n",
            "/content/drive/Shareddrives/GOFOODA/data/test_image/갈비탕_1 exists\n",
            "/content/drive/Shareddrives/GOFOODA/data/test_image/갈치구이_2 exists\n",
            "/content/drive/Shareddrives/GOFOODA/data/test_image/갈치조림_3 exists\n",
            "/content/drive/Shareddrives/GOFOODA/data/test_image/감자탕_4 exists\n",
            "/content/drive/Shareddrives/GOFOODA/data/test_image/계란말이_5 exists\n",
            "/content/drive/Shareddrives/GOFOODA/data/test_image/고추튀김_6 exists\n",
            "/content/drive/Shareddrives/GOFOODA/data/test_image/곰탕_설렁탕_7 exists\n",
            "/content/drive/Shareddrives/GOFOODA/data/test_image/곱창전골_8 exists\n",
            "/content/drive/Shareddrives/GOFOODA/data/test_image/김밥_9 exists\n",
            "/content/drive/Shareddrives/GOFOODA/data/test_image/김치볶음밥_10 exists\n",
            "/content/drive/Shareddrives/GOFOODA/data/test_image/김치전_11 exists\n",
            "/content/drive/Shareddrives/GOFOODA/data/test_image/김치찌개_12 exists\n",
            "/content/drive/Shareddrives/GOFOODA/data/test_image/닭볶음탕_13 exists\n",
            "/content/drive/Shareddrives/GOFOODA/data/test_image/된장찌개_14 exists\n",
            "/content/drive/Shareddrives/GOFOODA/data/test_image/만두_15 exists\n",
            "/content/drive/Shareddrives/GOFOODA/data/test_image/비빔밥_16 exists\n",
            "/content/drive/Shareddrives/GOFOODA/data/test_image/삼겹살_17 exists\n",
            "/content/drive/Shareddrives/GOFOODA/data/test_image/새우볶음밥_18 exists\n",
            "/content/drive/Shareddrives/GOFOODA/data/test_image/생선전_19 exists\n",
            "/content/drive/Shareddrives/GOFOODA/data/test_image/소세지볶음_20 exists\n",
            "/content/drive/Shareddrives/GOFOODA/data/test_image/양념치킨_21 exists\n",
            "/content/drive/Shareddrives/GOFOODA/data/test_image/육개장_22 exists\n",
            "/content/drive/Shareddrives/GOFOODA/data/test_image/육회_23 exists\n",
            "/content/drive/Shareddrives/GOFOODA/data/test_image/제육볶음_24 exists\n",
            "/content/drive/Shareddrives/GOFOODA/data/test_image/짬뽕_25 exists\n",
            "/content/drive/Shareddrives/GOFOODA/data/test_image/찜닭_26 exists\n",
            "/content/drive/Shareddrives/GOFOODA/data/test_image/파전_27 exists\n",
            "/content/drive/Shareddrives/GOFOODA/data/test_image/피자_28 exists\n",
            "/content/drive/Shareddrives/GOFOODA/data/test_image/후라이드치킨_29 exists\n"
          ],
          "name": "stdout"
        }
      ]
    },
    {
      "cell_type": "markdown",
      "metadata": {
        "id": "YyYnpwU26vCF"
      },
      "source": [
        "## 기존의 test image를 새로운 경로에 복사하기"
      ]
    },
    {
      "cell_type": "code",
      "metadata": {
        "id": "ezgVdAxGC79k"
      },
      "source": [
        "t_path = '/content/drive/Shareddrives/GOFOODA/data/test_image'"
      ],
      "execution_count": null,
      "outputs": []
    },
    {
      "cell_type": "code",
      "metadata": {
        "id": "mommsoHeDA5j",
        "outputId": "5c63f9d3-b3a0-41d4-85d8-d8232b02bf76",
        "colab": {
          "base_uri": "https://localhost:8080/"
        }
      },
      "source": [
        "prev_dirs = os.listdir(t_path)\n",
        "tmp = []\n",
        "for d in prev_dirs :\n",
        "    if '_' not in d:\n",
        "        tmp.append(d)\n",
        "\n",
        "prev_dirs = tmp\n",
        "prev_dirs"
      ],
      "execution_count": null,
      "outputs": [
        {
          "output_type": "execute_result",
          "data": {
            "text/plain": [
              "['김치볶음밥',\n",
              " '감자탕',\n",
              " '찜닭',\n",
              " '갈비구이',\n",
              " '갈치구이',\n",
              " '육개장',\n",
              " '삼겹살']"
            ]
          },
          "metadata": {
            "tags": []
          },
          "execution_count": 87
        }
      ]
    },
    {
      "cell_type": "code",
      "metadata": {
        "id": "lYWfCZ52DspG",
        "outputId": "790d1093-cbb7-49c0-9621-e613d95dc07d",
        "colab": {
          "base_uri": "https://localhost:8080/"
        }
      },
      "source": [
        "prev_paths = [os.path.join(t_path, x) for x in prev_dirs]\n",
        "prev_paths"
      ],
      "execution_count": null,
      "outputs": [
        {
          "output_type": "execute_result",
          "data": {
            "text/plain": [
              "['/content/drive/Shareddrives/GOFOODA/data/test_image/김치볶음밥',\n",
              " '/content/drive/Shareddrives/GOFOODA/data/test_image/감자탕',\n",
              " '/content/drive/Shareddrives/GOFOODA/data/test_image/찜닭',\n",
              " '/content/drive/Shareddrives/GOFOODA/data/test_image/갈비구이',\n",
              " '/content/drive/Shareddrives/GOFOODA/data/test_image/갈치구이',\n",
              " '/content/drive/Shareddrives/GOFOODA/data/test_image/육개장',\n",
              " '/content/drive/Shareddrives/GOFOODA/data/test_image/삼겹살']"
            ]
          },
          "metadata": {
            "tags": []
          },
          "execution_count": 88
        }
      ]
    },
    {
      "cell_type": "code",
      "metadata": {
        "id": "MaITBJYQD_4z",
        "outputId": "6c754049-4ad9-462f-adc4-f6b1d5ec911d",
        "colab": {
          "base_uri": "https://localhost:8080/"
        }
      },
      "source": [
        "source_paths = []\n",
        "for prev in prev_paths :\n",
        "    source_paths.extend(glob(os.path.join(prev, '*')))\n",
        "\n",
        "len(source_paths), source_paths[:5]"
      ],
      "execution_count": null,
      "outputs": [
        {
          "output_type": "execute_result",
          "data": {
            "text/plain": [
              "(112,\n",
              " ['/content/drive/Shareddrives/GOFOODA/data/test_image/김치볶음밥/김치볶음밥07.jpg',\n",
              "  '/content/drive/Shareddrives/GOFOODA/data/test_image/김치볶음밥/김치볶음밥06.jpg',\n",
              "  '/content/drive/Shareddrives/GOFOODA/data/test_image/김치볶음밥/김치볶음밥2.jpg',\n",
              "  '/content/drive/Shareddrives/GOFOODA/data/test_image/김치볶음밥/김치볶음밥6.jpg',\n",
              "  '/content/drive/Shareddrives/GOFOODA/data/test_image/김치볶음밥/김치볶음밥7.jpg'])"
            ]
          },
          "metadata": {
            "tags": []
          },
          "execution_count": 89
        }
      ]
    },
    {
      "cell_type": "code",
      "metadata": {
        "id": "5o159qrTFp4i"
      },
      "source": [
        "from tqdm.notebook import tqdm"
      ],
      "execution_count": null,
      "outputs": []
    },
    {
      "cell_type": "code",
      "metadata": {
        "id": "rsKGujEkLVPX",
        "outputId": "e72feb21-a647-4fab-f448-f331c23e7aa8",
        "colab": {
          "base_uri": "https://localhost:8080/"
        }
      },
      "source": [
        "new_dir_paths"
      ],
      "execution_count": null,
      "outputs": [
        {
          "output_type": "execute_result",
          "data": {
            "text/plain": [
              "[]"
            ]
          },
          "metadata": {
            "tags": []
          },
          "execution_count": 81
        }
      ]
    },
    {
      "cell_type": "code",
      "metadata": {
        "id": "WbUw6mB-FDtq",
        "outputId": "8391e876-6200-453c-c3cc-a04d7d18fd98",
        "colab": {
          "base_uri": "https://localhost:8080/",
          "height": 1000,
          "referenced_widgets": [
            "57f17b8238884906ad11d50173d846a8",
            "61d6b1f8a12d4d98adf573e134ce144a",
            "fe92a70f6f034d0c8f6b61ac4aec3481",
            "fdd1b7e8f4cf45b1a861a0b6cd1b4a51",
            "9172a3e7f93f445082734dcd5075bd9a",
            "4e289b8820ac46019a1e400e983c979e",
            "8e82a75338d74fc181e716829bcb23ec",
            "4f1b1b9b8a6b4cf98e6e2876245177bb"
          ]
        }
      },
      "source": [
        "i = 0\n",
        "for path in tqdm(source_paths):\n",
        "    # 기존의 테스트 이미지의 경로들을 하나씩 가져온다\n",
        "    class_name = path.split('/')[-2]\n",
        "    file_name = path.split('/')[-1]\n",
        "    # print(class_name, file_name)\n",
        "    # 새로운 target경로를 하나씩 확인 후 class_name을 포함한 경로를 만난다면 파일을 복사\n",
        "    for target in new_dir_paths:\n",
        "        if class_name in target:\n",
        "            # print(f\"해당 클래스명을 포함한 경로 : {target}\")\n",
        "            print(f'복사할 새로운 이미지파일에 대한 path : {new_path}')\n",
        "            new_path = os.path.join(target, file_name)\n",
        "                \n",
        "            if not os.path.exists(new_path):\n",
        "                shutil.copy(path, new_path)\n",
        "                print(f'원본 경로:{path}\\n->\\n복사 경로:{new_path}\\n\\n')\n",
        "        # else :\n",
        "        #     print(\"이미 해당 파일은 복사 완료\")"
      ],
      "execution_count": null,
      "outputs": [
        {
          "output_type": "display_data",
          "data": {
            "application/vnd.jupyter.widget-view+json": {
              "model_id": "57f17b8238884906ad11d50173d846a8",
              "version_minor": 0,
              "version_major": 2
            },
            "text/plain": [
              "HBox(children=(FloatProgress(value=0.0, max=112.0), HTML(value='')))"
            ]
          },
          "metadata": {
            "tags": []
          }
        },
        {
          "output_type": "stream",
          "text": [
            "복사할 새로운 이미지파일에 대한 path : /content/drive/Shareddrives/GOFOODA/data/test_image/찜닭_26/찜닭12.jpg\n",
            "원본 경로:/content/drive/Shareddrives/GOFOODA/data/test_image/김치볶음밥/김치볶음밥07.jpg\n",
            "->\n",
            "복사 경로:/content/drive/Shareddrives/GOFOODA/data/test_image/김치볶음밥_10/김치볶음밥07.jpg\n",
            "\n",
            "\n",
            "복사할 새로운 이미지파일에 대한 path : /content/drive/Shareddrives/GOFOODA/data/test_image/김치볶음밥_10/김치볶음밥07.jpg\n",
            "원본 경로:/content/drive/Shareddrives/GOFOODA/data/test_image/김치볶음밥/김치볶음밥06.jpg\n",
            "->\n",
            "복사 경로:/content/drive/Shareddrives/GOFOODA/data/test_image/김치볶음밥_10/김치볶음밥06.jpg\n",
            "\n",
            "\n",
            "복사할 새로운 이미지파일에 대한 path : /content/drive/Shareddrives/GOFOODA/data/test_image/김치볶음밥_10/김치볶음밥06.jpg\n",
            "원본 경로:/content/drive/Shareddrives/GOFOODA/data/test_image/김치볶음밥/김치볶음밥2.jpg\n",
            "->\n",
            "복사 경로:/content/drive/Shareddrives/GOFOODA/data/test_image/김치볶음밥_10/김치볶음밥2.jpg\n",
            "\n",
            "\n",
            "복사할 새로운 이미지파일에 대한 path : /content/drive/Shareddrives/GOFOODA/data/test_image/김치볶음밥_10/김치볶음밥2.jpg\n",
            "원본 경로:/content/drive/Shareddrives/GOFOODA/data/test_image/김치볶음밥/김치볶음밥6.jpg\n",
            "->\n",
            "복사 경로:/content/drive/Shareddrives/GOFOODA/data/test_image/김치볶음밥_10/김치볶음밥6.jpg\n",
            "\n",
            "\n",
            "복사할 새로운 이미지파일에 대한 path : /content/drive/Shareddrives/GOFOODA/data/test_image/김치볶음밥_10/김치볶음밥6.jpg\n",
            "원본 경로:/content/drive/Shareddrives/GOFOODA/data/test_image/김치볶음밥/김치볶음밥7.jpg\n",
            "->\n",
            "복사 경로:/content/drive/Shareddrives/GOFOODA/data/test_image/김치볶음밥_10/김치볶음밥7.jpg\n",
            "\n",
            "\n",
            "복사할 새로운 이미지파일에 대한 path : /content/drive/Shareddrives/GOFOODA/data/test_image/김치볶음밥_10/김치볶음밥7.jpg\n",
            "원본 경로:/content/drive/Shareddrives/GOFOODA/data/test_image/김치볶음밥/김치볶음밥02.jpg\n",
            "->\n",
            "복사 경로:/content/drive/Shareddrives/GOFOODA/data/test_image/김치볶음밥_10/김치볶음밥02.jpg\n",
            "\n",
            "\n",
            "복사할 새로운 이미지파일에 대한 path : /content/drive/Shareddrives/GOFOODA/data/test_image/김치볶음밥_10/김치볶음밥02.jpg\n",
            "원본 경로:/content/drive/Shareddrives/GOFOODA/data/test_image/김치볶음밥/김치볶음밥08.jpg\n",
            "->\n",
            "복사 경로:/content/drive/Shareddrives/GOFOODA/data/test_image/김치볶음밥_10/김치볶음밥08.jpg\n",
            "\n",
            "\n",
            "복사할 새로운 이미지파일에 대한 path : /content/drive/Shareddrives/GOFOODA/data/test_image/김치볶음밥_10/김치볶음밥08.jpg\n",
            "원본 경로:/content/drive/Shareddrives/GOFOODA/data/test_image/김치볶음밥/김치볶음밥09.jpg\n",
            "->\n",
            "복사 경로:/content/drive/Shareddrives/GOFOODA/data/test_image/김치볶음밥_10/김치볶음밥09.jpg\n",
            "\n",
            "\n",
            "복사할 새로운 이미지파일에 대한 path : /content/drive/Shareddrives/GOFOODA/data/test_image/김치볶음밥_10/김치볶음밥09.jpg\n",
            "원본 경로:/content/drive/Shareddrives/GOFOODA/data/test_image/김치볶음밥/김치볶음밥5.jpg\n",
            "->\n",
            "복사 경로:/content/drive/Shareddrives/GOFOODA/data/test_image/김치볶음밥_10/김치볶음밥5.jpg\n",
            "\n",
            "\n",
            "복사할 새로운 이미지파일에 대한 path : /content/drive/Shareddrives/GOFOODA/data/test_image/김치볶음밥_10/김치볶음밥5.jpg\n",
            "원본 경로:/content/drive/Shareddrives/GOFOODA/data/test_image/김치볶음밥/김치볶음밥03.jpg\n",
            "->\n",
            "복사 경로:/content/drive/Shareddrives/GOFOODA/data/test_image/김치볶음밥_10/김치볶음밥03.jpg\n",
            "\n",
            "\n",
            "복사할 새로운 이미지파일에 대한 path : /content/drive/Shareddrives/GOFOODA/data/test_image/김치볶음밥_10/김치볶음밥03.jpg\n",
            "원본 경로:/content/drive/Shareddrives/GOFOODA/data/test_image/김치볶음밥/김치볶음밥4.jpg\n",
            "->\n",
            "복사 경로:/content/drive/Shareddrives/GOFOODA/data/test_image/김치볶음밥_10/김치볶음밥4.jpg\n",
            "\n",
            "\n",
            "복사할 새로운 이미지파일에 대한 path : /content/drive/Shareddrives/GOFOODA/data/test_image/김치볶음밥_10/김치볶음밥4.jpg\n",
            "원본 경로:/content/drive/Shareddrives/GOFOODA/data/test_image/김치볶음밥/김치볶음밥05.jpg\n",
            "->\n",
            "복사 경로:/content/drive/Shareddrives/GOFOODA/data/test_image/김치볶음밥_10/김치볶음밥05.jpg\n",
            "\n",
            "\n",
            "복사할 새로운 이미지파일에 대한 path : /content/drive/Shareddrives/GOFOODA/data/test_image/김치볶음밥_10/김치볶음밥05.jpg\n",
            "원본 경로:/content/drive/Shareddrives/GOFOODA/data/test_image/김치볶음밥/김치볶음밥01.jpg\n",
            "->\n",
            "복사 경로:/content/drive/Shareddrives/GOFOODA/data/test_image/김치볶음밥_10/김치볶음밥01.jpg\n",
            "\n",
            "\n",
            "복사할 새로운 이미지파일에 대한 path : /content/drive/Shareddrives/GOFOODA/data/test_image/김치볶음밥_10/김치볶음밥01.jpg\n",
            "원본 경로:/content/drive/Shareddrives/GOFOODA/data/test_image/김치볶음밥/김치볶음밥04.jpg\n",
            "->\n",
            "복사 경로:/content/drive/Shareddrives/GOFOODA/data/test_image/김치볶음밥_10/김치볶음밥04.jpg\n",
            "\n",
            "\n",
            "복사할 새로운 이미지파일에 대한 path : /content/drive/Shareddrives/GOFOODA/data/test_image/김치볶음밥_10/김치볶음밥04.jpg\n",
            "원본 경로:/content/drive/Shareddrives/GOFOODA/data/test_image/김치볶음밥/김치볶음밥00.jpg\n",
            "->\n",
            "복사 경로:/content/drive/Shareddrives/GOFOODA/data/test_image/김치볶음밥_10/김치볶음밥00.jpg\n",
            "\n",
            "\n",
            "복사할 새로운 이미지파일에 대한 path : /content/drive/Shareddrives/GOFOODA/data/test_image/김치볶음밥_10/김치볶음밥00.jpg\n",
            "원본 경로:/content/drive/Shareddrives/GOFOODA/data/test_image/김치볶음밥/김치볶음밥3.jpg\n",
            "->\n",
            "복사 경로:/content/drive/Shareddrives/GOFOODA/data/test_image/김치볶음밥_10/김치볶음밥3.jpg\n",
            "\n",
            "\n",
            "복사할 새로운 이미지파일에 대한 path : /content/drive/Shareddrives/GOFOODA/data/test_image/김치볶음밥_10/김치볶음밥3.jpg\n",
            "원본 경로:/content/drive/Shareddrives/GOFOODA/data/test_image/김치볶음밥/김치볶음밥1.jpg\n",
            "->\n",
            "복사 경로:/content/drive/Shareddrives/GOFOODA/data/test_image/김치볶음밥_10/김치볶음밥1.jpg\n",
            "\n",
            "\n",
            "복사할 새로운 이미지파일에 대한 path : /content/drive/Shareddrives/GOFOODA/data/test_image/김치볶음밥_10/김치볶음밥1.jpg\n",
            "원본 경로:/content/drive/Shareddrives/GOFOODA/data/test_image/감자탕/감자탕9.jpg\n",
            "->\n",
            "복사 경로:/content/drive/Shareddrives/GOFOODA/data/test_image/감자탕_4/감자탕9.jpg\n",
            "\n",
            "\n",
            "복사할 새로운 이미지파일에 대한 path : /content/drive/Shareddrives/GOFOODA/data/test_image/감자탕_4/감자탕9.jpg\n",
            "원본 경로:/content/drive/Shareddrives/GOFOODA/data/test_image/감자탕/감자탕6.jpg\n",
            "->\n",
            "복사 경로:/content/drive/Shareddrives/GOFOODA/data/test_image/감자탕_4/감자탕6.jpg\n",
            "\n",
            "\n",
            "복사할 새로운 이미지파일에 대한 path : /content/drive/Shareddrives/GOFOODA/data/test_image/감자탕_4/감자탕6.jpg\n",
            "원본 경로:/content/drive/Shareddrives/GOFOODA/data/test_image/감자탕/감자탕04.jpg\n",
            "->\n",
            "복사 경로:/content/drive/Shareddrives/GOFOODA/data/test_image/감자탕_4/감자탕04.jpg\n",
            "\n",
            "\n",
            "복사할 새로운 이미지파일에 대한 path : /content/drive/Shareddrives/GOFOODA/data/test_image/감자탕_4/감자탕04.jpg\n",
            "원본 경로:/content/drive/Shareddrives/GOFOODA/data/test_image/감자탕/감자탕06.jpg\n",
            "->\n",
            "복사 경로:/content/drive/Shareddrives/GOFOODA/data/test_image/감자탕_4/감자탕06.jpg\n",
            "\n",
            "\n",
            "복사할 새로운 이미지파일에 대한 path : /content/drive/Shareddrives/GOFOODA/data/test_image/감자탕_4/감자탕06.jpg\n",
            "원본 경로:/content/drive/Shareddrives/GOFOODA/data/test_image/감자탕/감자탕13.jpg\n",
            "->\n",
            "복사 경로:/content/drive/Shareddrives/GOFOODA/data/test_image/감자탕_4/감자탕13.jpg\n",
            "\n",
            "\n",
            "복사할 새로운 이미지파일에 대한 path : /content/drive/Shareddrives/GOFOODA/data/test_image/감자탕_4/감자탕13.jpg\n",
            "원본 경로:/content/drive/Shareddrives/GOFOODA/data/test_image/감자탕/감자탕4.jpg\n",
            "->\n",
            "복사 경로:/content/drive/Shareddrives/GOFOODA/data/test_image/감자탕_4/감자탕4.jpg\n",
            "\n",
            "\n",
            "복사할 새로운 이미지파일에 대한 path : /content/drive/Shareddrives/GOFOODA/data/test_image/감자탕_4/감자탕4.jpg\n",
            "원본 경로:/content/drive/Shareddrives/GOFOODA/data/test_image/감자탕/감자탕14.jpg\n",
            "->\n",
            "복사 경로:/content/drive/Shareddrives/GOFOODA/data/test_image/감자탕_4/감자탕14.jpg\n",
            "\n",
            "\n",
            "복사할 새로운 이미지파일에 대한 path : /content/drive/Shareddrives/GOFOODA/data/test_image/감자탕_4/감자탕14.jpg\n",
            "원본 경로:/content/drive/Shareddrives/GOFOODA/data/test_image/감자탕/감자탕00.jpg\n",
            "->\n",
            "복사 경로:/content/drive/Shareddrives/GOFOODA/data/test_image/감자탕_4/감자탕00.jpg\n",
            "\n",
            "\n",
            "복사할 새로운 이미지파일에 대한 path : /content/drive/Shareddrives/GOFOODA/data/test_image/감자탕_4/감자탕00.jpg\n",
            "원본 경로:/content/drive/Shareddrives/GOFOODA/data/test_image/감자탕/감자탕0.jpg\n",
            "->\n",
            "복사 경로:/content/drive/Shareddrives/GOFOODA/data/test_image/감자탕_4/감자탕0.jpg\n",
            "\n",
            "\n",
            "복사할 새로운 이미지파일에 대한 path : /content/drive/Shareddrives/GOFOODA/data/test_image/감자탕_4/감자탕0.jpg\n",
            "원본 경로:/content/drive/Shareddrives/GOFOODA/data/test_image/감자탕/감자탕12.jpg\n",
            "->\n",
            "복사 경로:/content/drive/Shareddrives/GOFOODA/data/test_image/감자탕_4/감자탕12.jpg\n",
            "\n",
            "\n",
            "복사할 새로운 이미지파일에 대한 path : /content/drive/Shareddrives/GOFOODA/data/test_image/감자탕_4/감자탕12.jpg\n",
            "원본 경로:/content/drive/Shareddrives/GOFOODA/data/test_image/감자탕/감자탕5.jpg\n",
            "->\n",
            "복사 경로:/content/drive/Shareddrives/GOFOODA/data/test_image/감자탕_4/감자탕5.jpg\n",
            "\n",
            "\n",
            "복사할 새로운 이미지파일에 대한 path : /content/drive/Shareddrives/GOFOODA/data/test_image/감자탕_4/감자탕5.jpg\n",
            "원본 경로:/content/drive/Shareddrives/GOFOODA/data/test_image/감자탕/감자탕7.jpg\n",
            "->\n",
            "복사 경로:/content/drive/Shareddrives/GOFOODA/data/test_image/감자탕_4/감자탕7.jpg\n",
            "\n",
            "\n",
            "복사할 새로운 이미지파일에 대한 path : /content/drive/Shareddrives/GOFOODA/data/test_image/감자탕_4/감자탕7.jpg\n",
            "원본 경로:/content/drive/Shareddrives/GOFOODA/data/test_image/감자탕/감자탕8.jpg\n",
            "->\n",
            "복사 경로:/content/drive/Shareddrives/GOFOODA/data/test_image/감자탕_4/감자탕8.jpg\n",
            "\n",
            "\n",
            "복사할 새로운 이미지파일에 대한 path : /content/drive/Shareddrives/GOFOODA/data/test_image/감자탕_4/감자탕8.jpg\n",
            "원본 경로:/content/drive/Shareddrives/GOFOODA/data/test_image/감자탕/감자탕1.jpg\n",
            "->\n",
            "복사 경로:/content/drive/Shareddrives/GOFOODA/data/test_image/감자탕_4/감자탕1.jpg\n",
            "\n",
            "\n",
            "복사할 새로운 이미지파일에 대한 path : /content/drive/Shareddrives/GOFOODA/data/test_image/감자탕_4/감자탕1.jpg\n",
            "원본 경로:/content/drive/Shareddrives/GOFOODA/data/test_image/감자탕/감자탕08.jpg\n",
            "->\n",
            "복사 경로:/content/drive/Shareddrives/GOFOODA/data/test_image/감자탕_4/감자탕08.jpg\n",
            "\n",
            "\n",
            "복사할 새로운 이미지파일에 대한 path : /content/drive/Shareddrives/GOFOODA/data/test_image/감자탕_4/감자탕08.jpg\n",
            "원본 경로:/content/drive/Shareddrives/GOFOODA/data/test_image/감자탕/감자탕10.jpg\n",
            "->\n",
            "복사 경로:/content/drive/Shareddrives/GOFOODA/data/test_image/감자탕_4/감자탕10.jpg\n",
            "\n",
            "\n",
            "복사할 새로운 이미지파일에 대한 path : /content/drive/Shareddrives/GOFOODA/data/test_image/감자탕_4/감자탕10.jpg\n",
            "원본 경로:/content/drive/Shareddrives/GOFOODA/data/test_image/감자탕/감자탕03.jpg\n",
            "->\n",
            "복사 경로:/content/drive/Shareddrives/GOFOODA/data/test_image/감자탕_4/감자탕03.jpg\n",
            "\n",
            "\n",
            "복사할 새로운 이미지파일에 대한 path : /content/drive/Shareddrives/GOFOODA/data/test_image/감자탕_4/감자탕03.jpg\n",
            "원본 경로:/content/drive/Shareddrives/GOFOODA/data/test_image/감자탕/감자탕07.jpg\n",
            "->\n",
            "복사 경로:/content/drive/Shareddrives/GOFOODA/data/test_image/감자탕_4/감자탕07.jpg\n",
            "\n",
            "\n",
            "복사할 새로운 이미지파일에 대한 path : /content/drive/Shareddrives/GOFOODA/data/test_image/감자탕_4/감자탕07.jpg\n",
            "원본 경로:/content/drive/Shareddrives/GOFOODA/data/test_image/감자탕/감자탕2.jpg\n",
            "->\n",
            "복사 경로:/content/drive/Shareddrives/GOFOODA/data/test_image/감자탕_4/감자탕2.jpg\n",
            "\n",
            "\n",
            "복사할 새로운 이미지파일에 대한 path : /content/drive/Shareddrives/GOFOODA/data/test_image/감자탕_4/감자탕2.jpg\n",
            "원본 경로:/content/drive/Shareddrives/GOFOODA/data/test_image/감자탕/감자탕11.jpg\n",
            "->\n",
            "복사 경로:/content/drive/Shareddrives/GOFOODA/data/test_image/감자탕_4/감자탕11.jpg\n",
            "\n",
            "\n",
            "복사할 새로운 이미지파일에 대한 path : /content/drive/Shareddrives/GOFOODA/data/test_image/감자탕_4/감자탕11.jpg\n",
            "원본 경로:/content/drive/Shareddrives/GOFOODA/data/test_image/감자탕/감자탕05.jpg\n",
            "->\n",
            "복사 경로:/content/drive/Shareddrives/GOFOODA/data/test_image/감자탕_4/감자탕05.jpg\n",
            "\n",
            "\n",
            "복사할 새로운 이미지파일에 대한 path : /content/drive/Shareddrives/GOFOODA/data/test_image/감자탕_4/감자탕05.jpg\n",
            "원본 경로:/content/drive/Shareddrives/GOFOODA/data/test_image/감자탕/감자탕01.jpg\n",
            "->\n",
            "복사 경로:/content/drive/Shareddrives/GOFOODA/data/test_image/감자탕_4/감자탕01.jpg\n",
            "\n",
            "\n",
            "복사할 새로운 이미지파일에 대한 path : /content/drive/Shareddrives/GOFOODA/data/test_image/감자탕_4/감자탕01.jpg\n",
            "원본 경로:/content/drive/Shareddrives/GOFOODA/data/test_image/감자탕/감자탕3.jpg\n",
            "->\n",
            "복사 경로:/content/drive/Shareddrives/GOFOODA/data/test_image/감자탕_4/감자탕3.jpg\n",
            "\n",
            "\n",
            "복사할 새로운 이미지파일에 대한 path : /content/drive/Shareddrives/GOFOODA/data/test_image/감자탕_4/감자탕3.jpg\n",
            "원본 경로:/content/drive/Shareddrives/GOFOODA/data/test_image/감자탕/감자탕02.jpg\n",
            "->\n",
            "복사 경로:/content/drive/Shareddrives/GOFOODA/data/test_image/감자탕_4/감자탕02.jpg\n",
            "\n",
            "\n",
            "복사할 새로운 이미지파일에 대한 path : /content/drive/Shareddrives/GOFOODA/data/test_image/감자탕_4/감자탕02.jpg\n",
            "원본 경로:/content/drive/Shareddrives/GOFOODA/data/test_image/감자탕/감자탕09.jpg\n",
            "->\n",
            "복사 경로:/content/drive/Shareddrives/GOFOODA/data/test_image/감자탕_4/감자탕09.jpg\n",
            "\n",
            "\n",
            "복사할 새로운 이미지파일에 대한 path : /content/drive/Shareddrives/GOFOODA/data/test_image/감자탕_4/감자탕09.jpg\n",
            "원본 경로:/content/drive/Shareddrives/GOFOODA/data/test_image/찜닭/찜닭02.jpg\n",
            "->\n",
            "복사 경로:/content/drive/Shareddrives/GOFOODA/data/test_image/찜닭_26/찜닭02.jpg\n",
            "\n",
            "\n",
            "복사할 새로운 이미지파일에 대한 path : /content/drive/Shareddrives/GOFOODA/data/test_image/찜닭_26/찜닭02.jpg\n",
            "원본 경로:/content/drive/Shareddrives/GOFOODA/data/test_image/찜닭/찜닭05.jpg\n",
            "->\n",
            "복사 경로:/content/drive/Shareddrives/GOFOODA/data/test_image/찜닭_26/찜닭05.jpg\n",
            "\n",
            "\n",
            "복사할 새로운 이미지파일에 대한 path : /content/drive/Shareddrives/GOFOODA/data/test_image/찜닭_26/찜닭05.jpg\n",
            "원본 경로:/content/drive/Shareddrives/GOFOODA/data/test_image/찜닭/찜닭12.jpg\n",
            "->\n",
            "복사 경로:/content/drive/Shareddrives/GOFOODA/data/test_image/찜닭_26/찜닭12.jpg\n",
            "\n",
            "\n",
            "복사할 새로운 이미지파일에 대한 path : /content/drive/Shareddrives/GOFOODA/data/test_image/찜닭_26/찜닭12.jpg\n",
            "원본 경로:/content/drive/Shareddrives/GOFOODA/data/test_image/찜닭/찜닭14.jpg\n",
            "->\n",
            "복사 경로:/content/drive/Shareddrives/GOFOODA/data/test_image/찜닭_26/찜닭14.jpg\n",
            "\n",
            "\n",
            "복사할 새로운 이미지파일에 대한 path : /content/drive/Shareddrives/GOFOODA/data/test_image/찜닭_26/찜닭14.jpg\n",
            "원본 경로:/content/drive/Shareddrives/GOFOODA/data/test_image/찜닭/찜닭1.jpg\n",
            "->\n",
            "복사 경로:/content/drive/Shareddrives/GOFOODA/data/test_image/찜닭_26/찜닭1.jpg\n",
            "\n",
            "\n",
            "복사할 새로운 이미지파일에 대한 path : /content/drive/Shareddrives/GOFOODA/data/test_image/찜닭_26/찜닭1.jpg\n",
            "원본 경로:/content/drive/Shareddrives/GOFOODA/data/test_image/찜닭/찜닭6.jpg\n",
            "->\n",
            "복사 경로:/content/drive/Shareddrives/GOFOODA/data/test_image/찜닭_26/찜닭6.jpg\n",
            "\n",
            "\n",
            "복사할 새로운 이미지파일에 대한 path : /content/drive/Shareddrives/GOFOODA/data/test_image/찜닭_26/찜닭6.jpg\n",
            "원본 경로:/content/drive/Shareddrives/GOFOODA/data/test_image/찜닭/찜닭10.jpg\n",
            "->\n",
            "복사 경로:/content/drive/Shareddrives/GOFOODA/data/test_image/찜닭_26/찜닭10.jpg\n",
            "\n",
            "\n",
            "복사할 새로운 이미지파일에 대한 path : /content/drive/Shareddrives/GOFOODA/data/test_image/찜닭_26/찜닭10.jpg\n",
            "원본 경로:/content/drive/Shareddrives/GOFOODA/data/test_image/찜닭/찜닭7.jpg\n",
            "->\n",
            "복사 경로:/content/drive/Shareddrives/GOFOODA/data/test_image/찜닭_26/찜닭7.jpg\n",
            "\n",
            "\n",
            "복사할 새로운 이미지파일에 대한 path : /content/drive/Shareddrives/GOFOODA/data/test_image/찜닭_26/찜닭7.jpg\n",
            "원본 경로:/content/drive/Shareddrives/GOFOODA/data/test_image/찜닭/찜닭01.jpg\n",
            "->\n",
            "복사 경로:/content/drive/Shareddrives/GOFOODA/data/test_image/찜닭_26/찜닭01.jpg\n",
            "\n",
            "\n",
            "복사할 새로운 이미지파일에 대한 path : /content/drive/Shareddrives/GOFOODA/data/test_image/찜닭_26/찜닭01.jpg\n",
            "원본 경로:/content/drive/Shareddrives/GOFOODA/data/test_image/찜닭/찜닭11.jpg\n",
            "->\n",
            "복사 경로:/content/drive/Shareddrives/GOFOODA/data/test_image/찜닭_26/찜닭11.jpg\n",
            "\n",
            "\n",
            "복사할 새로운 이미지파일에 대한 path : /content/drive/Shareddrives/GOFOODA/data/test_image/찜닭_26/찜닭11.jpg\n",
            "원본 경로:/content/drive/Shareddrives/GOFOODA/data/test_image/찜닭/찜닭13.jpg\n",
            "->\n",
            "복사 경로:/content/drive/Shareddrives/GOFOODA/data/test_image/찜닭_26/찜닭13.jpg\n",
            "\n",
            "\n",
            "복사할 새로운 이미지파일에 대한 path : /content/drive/Shareddrives/GOFOODA/data/test_image/찜닭_26/찜닭13.jpg\n",
            "원본 경로:/content/drive/Shareddrives/GOFOODA/data/test_image/찜닭/찜닭08.jpg\n",
            "->\n",
            "복사 경로:/content/drive/Shareddrives/GOFOODA/data/test_image/찜닭_26/찜닭08.jpg\n",
            "\n",
            "\n",
            "복사할 새로운 이미지파일에 대한 path : /content/drive/Shareddrives/GOFOODA/data/test_image/찜닭_26/찜닭08.jpg\n",
            "원본 경로:/content/drive/Shareddrives/GOFOODA/data/test_image/찜닭/찜닭0.jpg\n",
            "->\n",
            "복사 경로:/content/drive/Shareddrives/GOFOODA/data/test_image/찜닭_26/찜닭0.jpg\n",
            "\n",
            "\n",
            "복사할 새로운 이미지파일에 대한 path : /content/drive/Shareddrives/GOFOODA/data/test_image/찜닭_26/찜닭0.jpg\n",
            "원본 경로:/content/drive/Shareddrives/GOFOODA/data/test_image/찜닭/찜닭5.jpg\n",
            "->\n",
            "복사 경로:/content/drive/Shareddrives/GOFOODA/data/test_image/찜닭_26/찜닭5.jpg\n",
            "\n",
            "\n",
            "복사할 새로운 이미지파일에 대한 path : /content/drive/Shareddrives/GOFOODA/data/test_image/찜닭_26/찜닭5.jpg\n",
            "원본 경로:/content/drive/Shareddrives/GOFOODA/data/test_image/찜닭/찜닭8.jpg\n",
            "->\n",
            "복사 경로:/content/drive/Shareddrives/GOFOODA/data/test_image/찜닭_26/찜닭8.jpg\n",
            "\n",
            "\n",
            "복사할 새로운 이미지파일에 대한 path : /content/drive/Shareddrives/GOFOODA/data/test_image/찜닭_26/찜닭8.jpg\n",
            "원본 경로:/content/drive/Shareddrives/GOFOODA/data/test_image/찜닭/찜닭4.jpg\n",
            "->\n",
            "복사 경로:/content/drive/Shareddrives/GOFOODA/data/test_image/찜닭_26/찜닭4.jpg\n",
            "\n",
            "\n",
            "복사할 새로운 이미지파일에 대한 path : /content/drive/Shareddrives/GOFOODA/data/test_image/찜닭_26/찜닭4.jpg\n",
            "원본 경로:/content/drive/Shareddrives/GOFOODA/data/test_image/찜닭/찜닭07.jpg\n",
            "->\n",
            "복사 경로:/content/drive/Shareddrives/GOFOODA/data/test_image/찜닭_26/찜닭07.jpg\n",
            "\n",
            "\n",
            "복사할 새로운 이미지파일에 대한 path : /content/drive/Shareddrives/GOFOODA/data/test_image/찜닭_26/찜닭07.jpg\n",
            "원본 경로:/content/drive/Shareddrives/GOFOODA/data/test_image/찜닭/찜닭3.jpg\n",
            "->\n",
            "복사 경로:/content/drive/Shareddrives/GOFOODA/data/test_image/찜닭_26/찜닭3.jpg\n",
            "\n",
            "\n",
            "복사할 새로운 이미지파일에 대한 path : /content/drive/Shareddrives/GOFOODA/data/test_image/찜닭_26/찜닭3.jpg\n",
            "원본 경로:/content/drive/Shareddrives/GOFOODA/data/test_image/찜닭/찜닭00.jpg\n",
            "->\n",
            "복사 경로:/content/drive/Shareddrives/GOFOODA/data/test_image/찜닭_26/찜닭00.jpg\n",
            "\n",
            "\n",
            "복사할 새로운 이미지파일에 대한 path : /content/drive/Shareddrives/GOFOODA/data/test_image/찜닭_26/찜닭00.jpg\n",
            "원본 경로:/content/drive/Shareddrives/GOFOODA/data/test_image/찜닭/찜닭09.jpg\n",
            "->\n",
            "복사 경로:/content/drive/Shareddrives/GOFOODA/data/test_image/찜닭_26/찜닭09.jpg\n",
            "\n",
            "\n",
            "복사할 새로운 이미지파일에 대한 path : /content/drive/Shareddrives/GOFOODA/data/test_image/찜닭_26/찜닭09.jpg\n",
            "원본 경로:/content/drive/Shareddrives/GOFOODA/data/test_image/찜닭/찜닭03.jpg\n",
            "->\n",
            "복사 경로:/content/drive/Shareddrives/GOFOODA/data/test_image/찜닭_26/찜닭03.jpg\n",
            "\n",
            "\n",
            "복사할 새로운 이미지파일에 대한 path : /content/drive/Shareddrives/GOFOODA/data/test_image/찜닭_26/찜닭03.jpg\n",
            "원본 경로:/content/drive/Shareddrives/GOFOODA/data/test_image/찜닭/찜닭9.jpg\n",
            "->\n",
            "복사 경로:/content/drive/Shareddrives/GOFOODA/data/test_image/찜닭_26/찜닭9.jpg\n",
            "\n",
            "\n",
            "복사할 새로운 이미지파일에 대한 path : /content/drive/Shareddrives/GOFOODA/data/test_image/찜닭_26/찜닭9.jpg\n",
            "원본 경로:/content/drive/Shareddrives/GOFOODA/data/test_image/찜닭/찜닭04.jpg\n",
            "->\n",
            "복사 경로:/content/drive/Shareddrives/GOFOODA/data/test_image/찜닭_26/찜닭04.jpg\n",
            "\n",
            "\n",
            "복사할 새로운 이미지파일에 대한 path : /content/drive/Shareddrives/GOFOODA/data/test_image/찜닭_26/찜닭04.jpg\n",
            "원본 경로:/content/drive/Shareddrives/GOFOODA/data/test_image/찜닭/찜닭2.jpg\n",
            "->\n",
            "복사 경로:/content/drive/Shareddrives/GOFOODA/data/test_image/찜닭_26/찜닭2.jpg\n",
            "\n",
            "\n",
            "복사할 새로운 이미지파일에 대한 path : /content/drive/Shareddrives/GOFOODA/data/test_image/찜닭_26/찜닭2.jpg\n",
            "원본 경로:/content/drive/Shareddrives/GOFOODA/data/test_image/찜닭/찜닭06.jpg\n",
            "->\n",
            "복사 경로:/content/drive/Shareddrives/GOFOODA/data/test_image/찜닭_26/찜닭06.jpg\n",
            "\n",
            "\n",
            "복사할 새로운 이미지파일에 대한 path : /content/drive/Shareddrives/GOFOODA/data/test_image/찜닭_26/찜닭06.jpg\n",
            "원본 경로:/content/drive/Shareddrives/GOFOODA/data/test_image/갈비구이/Screenshot from 2020-11-13 17-07-39.png\n",
            "->\n",
            "복사 경로:/content/drive/Shareddrives/GOFOODA/data/test_image/갈비구이_0/Screenshot from 2020-11-13 17-07-39.png\n",
            "\n",
            "\n",
            "복사할 새로운 이미지파일에 대한 path : /content/drive/Shareddrives/GOFOODA/data/test_image/갈비구이_0/Screenshot from 2020-11-13 17-07-39.png\n",
            "원본 경로:/content/drive/Shareddrives/GOFOODA/data/test_image/갈비구이/Screenshot from 2020-11-13 17-07-57.png\n",
            "->\n",
            "복사 경로:/content/drive/Shareddrives/GOFOODA/data/test_image/갈비구이_0/Screenshot from 2020-11-13 17-07-57.png\n",
            "\n",
            "\n",
            "복사할 새로운 이미지파일에 대한 path : /content/drive/Shareddrives/GOFOODA/data/test_image/갈비구이_0/Screenshot from 2020-11-13 17-07-57.png\n",
            "원본 경로:/content/drive/Shareddrives/GOFOODA/data/test_image/갈비구이/Screenshot from 2020-11-13 16-36-23.png\n",
            "->\n",
            "복사 경로:/content/drive/Shareddrives/GOFOODA/data/test_image/갈비구이_0/Screenshot from 2020-11-13 16-36-23.png\n",
            "\n",
            "\n",
            "복사할 새로운 이미지파일에 대한 path : /content/drive/Shareddrives/GOFOODA/data/test_image/갈비구이_0/Screenshot from 2020-11-13 16-36-23.png\n",
            "원본 경로:/content/drive/Shareddrives/GOFOODA/data/test_image/갈비구이/Screenshot from 2020-11-13 17-05-48.png\n",
            "->\n",
            "복사 경로:/content/drive/Shareddrives/GOFOODA/data/test_image/갈비구이_0/Screenshot from 2020-11-13 17-05-48.png\n",
            "\n",
            "\n",
            "복사할 새로운 이미지파일에 대한 path : /content/drive/Shareddrives/GOFOODA/data/test_image/갈비구이_0/Screenshot from 2020-11-13 17-05-48.png\n",
            "원본 경로:/content/drive/Shareddrives/GOFOODA/data/test_image/갈비구이/Screenshot from 2020-11-13 16-38-33.png\n",
            "->\n",
            "복사 경로:/content/drive/Shareddrives/GOFOODA/data/test_image/갈비구이_0/Screenshot from 2020-11-13 16-38-33.png\n",
            "\n",
            "\n",
            "복사할 새로운 이미지파일에 대한 path : /content/drive/Shareddrives/GOFOODA/data/test_image/갈비구이_0/Screenshot from 2020-11-13 16-38-33.png\n",
            "원본 경로:/content/drive/Shareddrives/GOFOODA/data/test_image/갈비구이/Screenshot from 2020-11-13 16-37-18.png\n",
            "->\n",
            "복사 경로:/content/drive/Shareddrives/GOFOODA/data/test_image/갈비구이_0/Screenshot from 2020-11-13 16-37-18.png\n",
            "\n",
            "\n",
            "복사할 새로운 이미지파일에 대한 path : /content/drive/Shareddrives/GOFOODA/data/test_image/갈비구이_0/Screenshot from 2020-11-13 16-37-18.png\n",
            "원본 경로:/content/drive/Shareddrives/GOFOODA/data/test_image/갈비구이/Screenshot from 2020-11-13 16-37-03.png\n",
            "->\n",
            "복사 경로:/content/drive/Shareddrives/GOFOODA/data/test_image/갈비구이_0/Screenshot from 2020-11-13 16-37-03.png\n",
            "\n",
            "\n",
            "복사할 새로운 이미지파일에 대한 path : /content/drive/Shareddrives/GOFOODA/data/test_image/갈비구이_0/Screenshot from 2020-11-13 16-37-03.png\n",
            "원본 경로:/content/drive/Shareddrives/GOFOODA/data/test_image/갈비구이/Screenshot from 2020-11-13 17-06-20.png\n",
            "->\n",
            "복사 경로:/content/drive/Shareddrives/GOFOODA/data/test_image/갈비구이_0/Screenshot from 2020-11-13 17-06-20.png\n",
            "\n",
            "\n",
            "복사할 새로운 이미지파일에 대한 path : /content/drive/Shareddrives/GOFOODA/data/test_image/갈비구이_0/Screenshot from 2020-11-13 17-06-20.png\n",
            "원본 경로:/content/drive/Shareddrives/GOFOODA/data/test_image/갈비구이/Screenshot from 2020-11-13 17-06-42.png\n",
            "->\n",
            "복사 경로:/content/drive/Shareddrives/GOFOODA/data/test_image/갈비구이_0/Screenshot from 2020-11-13 17-06-42.png\n",
            "\n",
            "\n",
            "복사할 새로운 이미지파일에 대한 path : /content/drive/Shareddrives/GOFOODA/data/test_image/갈비구이_0/Screenshot from 2020-11-13 17-06-42.png\n",
            "원본 경로:/content/drive/Shareddrives/GOFOODA/data/test_image/갈비구이/Screenshot from 2020-11-13 17-06-02.png\n",
            "->\n",
            "복사 경로:/content/drive/Shareddrives/GOFOODA/data/test_image/갈비구이_0/Screenshot from 2020-11-13 17-06-02.png\n",
            "\n",
            "\n",
            "복사할 새로운 이미지파일에 대한 path : /content/drive/Shareddrives/GOFOODA/data/test_image/갈비구이_0/Screenshot from 2020-11-13 17-06-02.png\n",
            "원본 경로:/content/drive/Shareddrives/GOFOODA/data/test_image/갈비구이/Screenshot from 2020-11-13 17-08-10.png\n",
            "->\n",
            "복사 경로:/content/drive/Shareddrives/GOFOODA/data/test_image/갈비구이_0/Screenshot from 2020-11-13 17-08-10.png\n",
            "\n",
            "\n",
            "복사할 새로운 이미지파일에 대한 path : /content/drive/Shareddrives/GOFOODA/data/test_image/갈비구이_0/Screenshot from 2020-11-13 17-08-10.png\n",
            "원본 경로:/content/drive/Shareddrives/GOFOODA/data/test_image/갈비구이/Screenshot from 2020-11-13 16-37-57.png\n",
            "->\n",
            "복사 경로:/content/drive/Shareddrives/GOFOODA/data/test_image/갈비구이_0/Screenshot from 2020-11-13 16-37-57.png\n",
            "\n",
            "\n",
            "복사할 새로운 이미지파일에 대한 path : /content/drive/Shareddrives/GOFOODA/data/test_image/갈비구이_0/Screenshot from 2020-11-13 16-37-57.png\n",
            "원본 경로:/content/drive/Shareddrives/GOFOODA/data/test_image/갈치구이/Screenshot from 2020-11-13 17-10-11.png\n",
            "->\n",
            "복사 경로:/content/drive/Shareddrives/GOFOODA/data/test_image/갈치구이_2/Screenshot from 2020-11-13 17-10-11.png\n",
            "\n",
            "\n",
            "복사할 새로운 이미지파일에 대한 path : /content/drive/Shareddrives/GOFOODA/data/test_image/갈치구이_2/Screenshot from 2020-11-13 17-10-11.png\n",
            "원본 경로:/content/drive/Shareddrives/GOFOODA/data/test_image/갈치구이/Screenshot from 2020-11-13 16-40-18.png\n",
            "->\n",
            "복사 경로:/content/drive/Shareddrives/GOFOODA/data/test_image/갈치구이_2/Screenshot from 2020-11-13 16-40-18.png\n",
            "\n",
            "\n",
            "복사할 새로운 이미지파일에 대한 path : /content/drive/Shareddrives/GOFOODA/data/test_image/갈치구이_2/Screenshot from 2020-11-13 16-40-18.png\n",
            "원본 경로:/content/drive/Shareddrives/GOFOODA/data/test_image/갈치구이/Screenshot from 2020-11-13 16-41-27.png\n",
            "->\n",
            "복사 경로:/content/drive/Shareddrives/GOFOODA/data/test_image/갈치구이_2/Screenshot from 2020-11-13 16-41-27.png\n",
            "\n",
            "\n",
            "복사할 새로운 이미지파일에 대한 path : /content/drive/Shareddrives/GOFOODA/data/test_image/갈치구이_2/Screenshot from 2020-11-13 16-41-27.png\n",
            "원본 경로:/content/drive/Shareddrives/GOFOODA/data/test_image/갈치구이/Screenshot from 2020-11-13 17-08-54.png\n",
            "->\n",
            "복사 경로:/content/drive/Shareddrives/GOFOODA/data/test_image/갈치구이_2/Screenshot from 2020-11-13 17-08-54.png\n",
            "\n",
            "\n",
            "복사할 새로운 이미지파일에 대한 path : /content/drive/Shareddrives/GOFOODA/data/test_image/갈치구이_2/Screenshot from 2020-11-13 17-08-54.png\n",
            "원본 경로:/content/drive/Shareddrives/GOFOODA/data/test_image/갈치구이/Screenshot from 2020-11-13 17-09-39.png\n",
            "->\n",
            "복사 경로:/content/drive/Shareddrives/GOFOODA/data/test_image/갈치구이_2/Screenshot from 2020-11-13 17-09-39.png\n",
            "\n",
            "\n",
            "복사할 새로운 이미지파일에 대한 path : /content/drive/Shareddrives/GOFOODA/data/test_image/갈치구이_2/Screenshot from 2020-11-13 17-09-39.png\n",
            "원본 경로:/content/drive/Shareddrives/GOFOODA/data/test_image/갈치구이/Screenshot from 2020-11-13 17-10-37.png\n",
            "->\n",
            "복사 경로:/content/drive/Shareddrives/GOFOODA/data/test_image/갈치구이_2/Screenshot from 2020-11-13 17-10-37.png\n",
            "\n",
            "\n",
            "복사할 새로운 이미지파일에 대한 path : /content/drive/Shareddrives/GOFOODA/data/test_image/갈치구이_2/Screenshot from 2020-11-13 17-10-37.png\n",
            "원본 경로:/content/drive/Shareddrives/GOFOODA/data/test_image/갈치구이/Screenshot from 2020-11-13 16-40-30.png\n",
            "->\n",
            "복사 경로:/content/drive/Shareddrives/GOFOODA/data/test_image/갈치구이_2/Screenshot from 2020-11-13 16-40-30.png\n",
            "\n",
            "\n",
            "복사할 새로운 이미지파일에 대한 path : /content/drive/Shareddrives/GOFOODA/data/test_image/갈치구이_2/Screenshot from 2020-11-13 16-40-30.png\n",
            "원본 경로:/content/drive/Shareddrives/GOFOODA/data/test_image/갈치구이/Screenshot from 2020-11-13 17-10-22.png\n",
            "->\n",
            "복사 경로:/content/drive/Shareddrives/GOFOODA/data/test_image/갈치구이_2/Screenshot from 2020-11-13 17-10-22.png\n",
            "\n",
            "\n",
            "복사할 새로운 이미지파일에 대한 path : /content/drive/Shareddrives/GOFOODA/data/test_image/갈치구이_2/Screenshot from 2020-11-13 17-10-22.png\n",
            "원본 경로:/content/drive/Shareddrives/GOFOODA/data/test_image/갈치구이/Screenshot from 2020-11-13 17-09-57.png\n",
            "->\n",
            "복사 경로:/content/drive/Shareddrives/GOFOODA/data/test_image/갈치구이_2/Screenshot from 2020-11-13 17-09-57.png\n",
            "\n",
            "\n",
            "복사할 새로운 이미지파일에 대한 path : /content/drive/Shareddrives/GOFOODA/data/test_image/갈치구이_2/Screenshot from 2020-11-13 17-09-57.png\n",
            "원본 경로:/content/drive/Shareddrives/GOFOODA/data/test_image/갈치구이/Screenshot from 2020-11-13 16-40-56.png\n",
            "->\n",
            "복사 경로:/content/drive/Shareddrives/GOFOODA/data/test_image/갈치구이_2/Screenshot from 2020-11-13 16-40-56.png\n",
            "\n",
            "\n",
            "복사할 새로운 이미지파일에 대한 path : /content/drive/Shareddrives/GOFOODA/data/test_image/갈치구이_2/Screenshot from 2020-11-13 16-40-56.png\n",
            "원본 경로:/content/drive/Shareddrives/GOFOODA/data/test_image/갈치구이/Screenshot from 2020-11-13 16-39-47.png\n",
            "->\n",
            "복사 경로:/content/drive/Shareddrives/GOFOODA/data/test_image/갈치구이_2/Screenshot from 2020-11-13 16-39-47.png\n",
            "\n",
            "\n",
            "복사할 새로운 이미지파일에 대한 path : /content/drive/Shareddrives/GOFOODA/data/test_image/갈치구이_2/Screenshot from 2020-11-13 16-39-47.png\n",
            "원본 경로:/content/drive/Shareddrives/GOFOODA/data/test_image/육개장/Screenshot from 2020-11-13 16-43-02.png\n",
            "->\n",
            "복사 경로:/content/drive/Shareddrives/GOFOODA/data/test_image/육개장_22/Screenshot from 2020-11-13 16-43-02.png\n",
            "\n",
            "\n",
            "복사할 새로운 이미지파일에 대한 path : /content/drive/Shareddrives/GOFOODA/data/test_image/육개장_22/Screenshot from 2020-11-13 16-43-02.png\n",
            "원본 경로:/content/drive/Shareddrives/GOFOODA/data/test_image/육개장/Screenshot from 2020-11-13 16-42-43.png\n",
            "->\n",
            "복사 경로:/content/drive/Shareddrives/GOFOODA/data/test_image/육개장_22/Screenshot from 2020-11-13 16-42-43.png\n",
            "\n",
            "\n",
            "복사할 새로운 이미지파일에 대한 path : /content/drive/Shareddrives/GOFOODA/data/test_image/육개장_22/Screenshot from 2020-11-13 16-42-43.png\n",
            "원본 경로:/content/drive/Shareddrives/GOFOODA/data/test_image/육개장/Screenshot from 2020-11-13 16-51-50.png\n",
            "->\n",
            "복사 경로:/content/drive/Shareddrives/GOFOODA/data/test_image/육개장_22/Screenshot from 2020-11-13 16-51-50.png\n",
            "\n",
            "\n",
            "복사할 새로운 이미지파일에 대한 path : /content/drive/Shareddrives/GOFOODA/data/test_image/육개장_22/Screenshot from 2020-11-13 16-51-50.png\n",
            "원본 경로:/content/drive/Shareddrives/GOFOODA/data/test_image/육개장/Screenshot from 2020-11-13 17-05-01.png\n",
            "->\n",
            "복사 경로:/content/drive/Shareddrives/GOFOODA/data/test_image/육개장_22/Screenshot from 2020-11-13 17-05-01.png\n",
            "\n",
            "\n",
            "복사할 새로운 이미지파일에 대한 path : /content/drive/Shareddrives/GOFOODA/data/test_image/육개장_22/Screenshot from 2020-11-13 17-05-01.png\n",
            "원본 경로:/content/drive/Shareddrives/GOFOODA/data/test_image/육개장/Screenshot from 2020-11-13 16-43-59.png\n",
            "->\n",
            "복사 경로:/content/drive/Shareddrives/GOFOODA/data/test_image/육개장_22/Screenshot from 2020-11-13 16-43-59.png\n",
            "\n",
            "\n",
            "복사할 새로운 이미지파일에 대한 path : /content/drive/Shareddrives/GOFOODA/data/test_image/육개장_22/Screenshot from 2020-11-13 16-43-59.png\n",
            "원본 경로:/content/drive/Shareddrives/GOFOODA/data/test_image/육개장/Screenshot from 2020-11-13 16-51-00.png\n",
            "->\n",
            "복사 경로:/content/drive/Shareddrives/GOFOODA/data/test_image/육개장_22/Screenshot from 2020-11-13 16-51-00.png\n",
            "\n",
            "\n",
            "복사할 새로운 이미지파일에 대한 path : /content/drive/Shareddrives/GOFOODA/data/test_image/육개장_22/Screenshot from 2020-11-13 16-51-00.png\n",
            "원본 경로:/content/drive/Shareddrives/GOFOODA/data/test_image/육개장/Screenshot from 2020-11-13 16-43-19.png\n",
            "->\n",
            "복사 경로:/content/drive/Shareddrives/GOFOODA/data/test_image/육개장_22/Screenshot from 2020-11-13 16-43-19.png\n",
            "\n",
            "\n",
            "복사할 새로운 이미지파일에 대한 path : /content/drive/Shareddrives/GOFOODA/data/test_image/육개장_22/Screenshot from 2020-11-13 16-43-19.png\n",
            "원본 경로:/content/drive/Shareddrives/GOFOODA/data/test_image/육개장/Screenshot from 2020-11-13 16-51-32.png\n",
            "->\n",
            "복사 경로:/content/drive/Shareddrives/GOFOODA/data/test_image/육개장_22/Screenshot from 2020-11-13 16-51-32.png\n",
            "\n",
            "\n",
            "복사할 새로운 이미지파일에 대한 path : /content/drive/Shareddrives/GOFOODA/data/test_image/육개장_22/Screenshot from 2020-11-13 16-51-32.png\n",
            "원본 경로:/content/drive/Shareddrives/GOFOODA/data/test_image/육개장/Screenshot from 2020-11-13 16-44-38.png\n",
            "->\n",
            "복사 경로:/content/drive/Shareddrives/GOFOODA/data/test_image/육개장_22/Screenshot from 2020-11-13 16-44-38.png\n",
            "\n",
            "\n",
            "복사할 새로운 이미지파일에 대한 path : /content/drive/Shareddrives/GOFOODA/data/test_image/육개장_22/Screenshot from 2020-11-13 16-44-38.png\n",
            "원본 경로:/content/drive/Shareddrives/GOFOODA/data/test_image/육개장/Screenshot from 2020-11-13 16-52-24.png\n",
            "->\n",
            "복사 경로:/content/drive/Shareddrives/GOFOODA/data/test_image/육개장_22/Screenshot from 2020-11-13 16-52-24.png\n",
            "\n",
            "\n",
            "복사할 새로운 이미지파일에 대한 path : /content/drive/Shareddrives/GOFOODA/data/test_image/육개장_22/Screenshot from 2020-11-13 16-52-24.png\n",
            "원본 경로:/content/drive/Shareddrives/GOFOODA/data/test_image/삼겹살/Screenshot from 2020-11-13 16-48-51.png\n",
            "->\n",
            "복사 경로:/content/drive/Shareddrives/GOFOODA/data/test_image/삼겹살_17/Screenshot from 2020-11-13 16-48-51.png\n",
            "\n",
            "\n",
            "복사할 새로운 이미지파일에 대한 path : /content/drive/Shareddrives/GOFOODA/data/test_image/삼겹살_17/Screenshot from 2020-11-13 16-48-51.png\n",
            "원본 경로:/content/drive/Shareddrives/GOFOODA/data/test_image/삼겹살/Screenshot from 2020-11-13 16-45-20.png\n",
            "->\n",
            "복사 경로:/content/drive/Shareddrives/GOFOODA/data/test_image/삼겹살_17/Screenshot from 2020-11-13 16-45-20.png\n",
            "\n",
            "\n",
            "복사할 새로운 이미지파일에 대한 path : /content/drive/Shareddrives/GOFOODA/data/test_image/삼겹살_17/Screenshot from 2020-11-13 16-45-20.png\n",
            "원본 경로:/content/drive/Shareddrives/GOFOODA/data/test_image/삼겹살/Screenshot from 2020-11-13 16-45-40.png\n",
            "->\n",
            "복사 경로:/content/drive/Shareddrives/GOFOODA/data/test_image/삼겹살_17/Screenshot from 2020-11-13 16-45-40.png\n",
            "\n",
            "\n",
            "복사할 새로운 이미지파일에 대한 path : /content/drive/Shareddrives/GOFOODA/data/test_image/삼겹살_17/Screenshot from 2020-11-13 16-45-40.png\n",
            "원본 경로:/content/drive/Shareddrives/GOFOODA/data/test_image/삼겹살/Screenshot from 2020-11-13 16-49-03.png\n",
            "->\n",
            "복사 경로:/content/drive/Shareddrives/GOFOODA/data/test_image/삼겹살_17/Screenshot from 2020-11-13 16-49-03.png\n",
            "\n",
            "\n",
            "복사할 새로운 이미지파일에 대한 path : /content/drive/Shareddrives/GOFOODA/data/test_image/삼겹살_17/Screenshot from 2020-11-13 16-49-03.png\n",
            "원본 경로:/content/drive/Shareddrives/GOFOODA/data/test_image/삼겹살/Screenshot from 2020-11-13 16-48-20.png\n",
            "->\n",
            "복사 경로:/content/drive/Shareddrives/GOFOODA/data/test_image/삼겹살_17/Screenshot from 2020-11-13 16-48-20.png\n",
            "\n",
            "\n",
            "복사할 새로운 이미지파일에 대한 path : /content/drive/Shareddrives/GOFOODA/data/test_image/삼겹살_17/Screenshot from 2020-11-13 16-48-20.png\n",
            "원본 경로:/content/drive/Shareddrives/GOFOODA/data/test_image/삼겹살/Screenshot from 2020-11-13 16-48-04.png\n",
            "->\n",
            "복사 경로:/content/drive/Shareddrives/GOFOODA/data/test_image/삼겹살_17/Screenshot from 2020-11-13 16-48-04.png\n",
            "\n",
            "\n",
            "복사할 새로운 이미지파일에 대한 path : /content/drive/Shareddrives/GOFOODA/data/test_image/삼겹살_17/Screenshot from 2020-11-13 16-48-04.png\n",
            "원본 경로:/content/drive/Shareddrives/GOFOODA/data/test_image/삼겹살/Screenshot from 2020-11-13 16-48-34.png\n",
            "->\n",
            "복사 경로:/content/drive/Shareddrives/GOFOODA/data/test_image/삼겹살_17/Screenshot from 2020-11-13 16-48-34.png\n",
            "\n",
            "\n",
            "복사할 새로운 이미지파일에 대한 path : /content/drive/Shareddrives/GOFOODA/data/test_image/삼겹살_17/Screenshot from 2020-11-13 16-48-34.png\n",
            "원본 경로:/content/drive/Shareddrives/GOFOODA/data/test_image/삼겹살/Screenshot from 2020-11-13 16-47-26.png\n",
            "->\n",
            "복사 경로:/content/drive/Shareddrives/GOFOODA/data/test_image/삼겹살_17/Screenshot from 2020-11-13 16-47-26.png\n",
            "\n",
            "\n",
            "복사할 새로운 이미지파일에 대한 path : /content/drive/Shareddrives/GOFOODA/data/test_image/삼겹살_17/Screenshot from 2020-11-13 16-47-26.png\n",
            "원본 경로:/content/drive/Shareddrives/GOFOODA/data/test_image/삼겹살/Screenshot from 2020-11-13 16-46-28.png\n",
            "->\n",
            "복사 경로:/content/drive/Shareddrives/GOFOODA/data/test_image/삼겹살_17/Screenshot from 2020-11-13 16-46-28.png\n",
            "\n",
            "\n",
            "복사할 새로운 이미지파일에 대한 path : /content/drive/Shareddrives/GOFOODA/data/test_image/삼겹살_17/Screenshot from 2020-11-13 16-46-28.png\n",
            "원본 경로:/content/drive/Shareddrives/GOFOODA/data/test_image/삼겹살/Screenshot from 2020-11-13 16-47-51.png\n",
            "->\n",
            "복사 경로:/content/drive/Shareddrives/GOFOODA/data/test_image/삼겹살_17/Screenshot from 2020-11-13 16-47-51.png\n",
            "\n",
            "\n",
            "복사할 새로운 이미지파일에 대한 path : /content/drive/Shareddrives/GOFOODA/data/test_image/삼겹살_17/Screenshot from 2020-11-13 16-47-51.png\n",
            "원본 경로:/content/drive/Shareddrives/GOFOODA/data/test_image/삼겹살/Screenshot from 2020-11-13 16-45-03.png\n",
            "->\n",
            "복사 경로:/content/drive/Shareddrives/GOFOODA/data/test_image/삼겹살_17/Screenshot from 2020-11-13 16-45-03.png\n",
            "\n",
            "\n",
            "복사할 새로운 이미지파일에 대한 path : /content/drive/Shareddrives/GOFOODA/data/test_image/삼겹살_17/Screenshot from 2020-11-13 16-45-03.png\n",
            "원본 경로:/content/drive/Shareddrives/GOFOODA/data/test_image/삼겹살/Screenshot from 2020-11-13 16-45-57.png\n",
            "->\n",
            "복사 경로:/content/drive/Shareddrives/GOFOODA/data/test_image/삼겹살_17/Screenshot from 2020-11-13 16-45-57.png\n",
            "\n",
            "\n",
            "\n"
          ],
          "name": "stdout"
        }
      ]
    },
    {
      "cell_type": "code",
      "metadata": {
        "id": "7v7SbPhBGFli",
        "outputId": "508cec53-8267-4d5d-ce87-ecf06cd71f28",
        "colab": {
          "base_uri": "https://localhost:8080/"
        }
      },
      "source": [
        "new_dir_paths"
      ],
      "execution_count": null,
      "outputs": [
        {
          "output_type": "execute_result",
          "data": {
            "text/plain": [
              "['/content/drive/Shareddrives/GOFOODA/data/test_image/갈비구이_0',\n",
              " '/content/drive/Shareddrives/GOFOODA/data/test_image/갈비탕_1',\n",
              " '/content/drive/Shareddrives/GOFOODA/data/test_image/갈치구이_2',\n",
              " '/content/drive/Shareddrives/GOFOODA/data/test_image/갈치조림_3',\n",
              " '/content/drive/Shareddrives/GOFOODA/data/test_image/감자탕_4',\n",
              " '/content/drive/Shareddrives/GOFOODA/data/test_image/계란말이_5',\n",
              " '/content/drive/Shareddrives/GOFOODA/data/test_image/고추튀김_6',\n",
              " '/content/drive/Shareddrives/GOFOODA/data/test_image/곰탕_설렁탕_7',\n",
              " '/content/drive/Shareddrives/GOFOODA/data/test_image/곱창전골_8',\n",
              " '/content/drive/Shareddrives/GOFOODA/data/test_image/김밥_9',\n",
              " '/content/drive/Shareddrives/GOFOODA/data/test_image/김치볶음밥_10',\n",
              " '/content/drive/Shareddrives/GOFOODA/data/test_image/김치전_11',\n",
              " '/content/drive/Shareddrives/GOFOODA/data/test_image/김치찌개_12',\n",
              " '/content/drive/Shareddrives/GOFOODA/data/test_image/닭볶음탕_13',\n",
              " '/content/drive/Shareddrives/GOFOODA/data/test_image/된장찌개_14',\n",
              " '/content/drive/Shareddrives/GOFOODA/data/test_image/만두_15',\n",
              " '/content/drive/Shareddrives/GOFOODA/data/test_image/비빔밥_16',\n",
              " '/content/drive/Shareddrives/GOFOODA/data/test_image/삼겹살_17',\n",
              " '/content/drive/Shareddrives/GOFOODA/data/test_image/새우볶음밥_18',\n",
              " '/content/drive/Shareddrives/GOFOODA/data/test_image/생선전_19',\n",
              " '/content/drive/Shareddrives/GOFOODA/data/test_image/소세지볶음_20',\n",
              " '/content/drive/Shareddrives/GOFOODA/data/test_image/양념치킨_21',\n",
              " '/content/drive/Shareddrives/GOFOODA/data/test_image/육개장_22',\n",
              " '/content/drive/Shareddrives/GOFOODA/data/test_image/육회_23',\n",
              " '/content/drive/Shareddrives/GOFOODA/data/test_image/제육볶음_24',\n",
              " '/content/drive/Shareddrives/GOFOODA/data/test_image/짬뽕_25',\n",
              " '/content/drive/Shareddrives/GOFOODA/data/test_image/찜닭_26',\n",
              " '/content/drive/Shareddrives/GOFOODA/data/test_image/파전_27',\n",
              " '/content/drive/Shareddrives/GOFOODA/data/test_image/피자_28',\n",
              " '/content/drive/Shareddrives/GOFOODA/data/test_image/후라이드치킨_29']"
            ]
          },
          "metadata": {
            "tags": []
          },
          "execution_count": 92
        }
      ]
    },
    {
      "cell_type": "markdown",
      "metadata": {
        "id": "WDkeNhOTGRGp"
      },
      "source": [
        "## 복사된 파일 확인"
      ]
    },
    {
      "cell_type": "code",
      "metadata": {
        "id": "FUYFqU0EMEai",
        "outputId": "6e05ace3-aee0-422c-b031-e19b856152f3",
        "colab": {
          "base_uri": "https://localhost:8080/"
        }
      },
      "source": [
        "final_check = []\n",
        "for path in new_dir_paths:\n",
        "    print(os.path.join(path, '*'))\n",
        "    final_check.extend(glob(os.path.join(path, '*')))\n",
        "len(final_check), final_check[:5]"
      ],
      "execution_count": null,
      "outputs": [
        {
          "output_type": "stream",
          "text": [
            "/content/drive/Shareddrives/GOFOODA/data/test_image/갈비구이_0/*\n",
            "/content/drive/Shareddrives/GOFOODA/data/test_image/갈비탕_1/*\n",
            "/content/drive/Shareddrives/GOFOODA/data/test_image/갈치구이_2/*\n",
            "/content/drive/Shareddrives/GOFOODA/data/test_image/갈치조림_3/*\n",
            "/content/drive/Shareddrives/GOFOODA/data/test_image/감자탕_4/*\n",
            "/content/drive/Shareddrives/GOFOODA/data/test_image/계란말이_5/*\n",
            "/content/drive/Shareddrives/GOFOODA/data/test_image/고추튀김_6/*\n",
            "/content/drive/Shareddrives/GOFOODA/data/test_image/곰탕_설렁탕_7/*\n",
            "/content/drive/Shareddrives/GOFOODA/data/test_image/곱창전골_8/*\n",
            "/content/drive/Shareddrives/GOFOODA/data/test_image/김밥_9/*\n",
            "/content/drive/Shareddrives/GOFOODA/data/test_image/김치볶음밥_10/*\n",
            "/content/drive/Shareddrives/GOFOODA/data/test_image/김치전_11/*\n",
            "/content/drive/Shareddrives/GOFOODA/data/test_image/김치찌개_12/*\n",
            "/content/drive/Shareddrives/GOFOODA/data/test_image/닭볶음탕_13/*\n",
            "/content/drive/Shareddrives/GOFOODA/data/test_image/된장찌개_14/*\n",
            "/content/drive/Shareddrives/GOFOODA/data/test_image/만두_15/*\n",
            "/content/drive/Shareddrives/GOFOODA/data/test_image/비빔밥_16/*\n",
            "/content/drive/Shareddrives/GOFOODA/data/test_image/삼겹살_17/*\n",
            "/content/drive/Shareddrives/GOFOODA/data/test_image/새우볶음밥_18/*\n",
            "/content/drive/Shareddrives/GOFOODA/data/test_image/생선전_19/*\n",
            "/content/drive/Shareddrives/GOFOODA/data/test_image/소세지볶음_20/*\n",
            "/content/drive/Shareddrives/GOFOODA/data/test_image/양념치킨_21/*\n",
            "/content/drive/Shareddrives/GOFOODA/data/test_image/육개장_22/*\n",
            "/content/drive/Shareddrives/GOFOODA/data/test_image/육회_23/*\n",
            "/content/drive/Shareddrives/GOFOODA/data/test_image/제육볶음_24/*\n",
            "/content/drive/Shareddrives/GOFOODA/data/test_image/짬뽕_25/*\n",
            "/content/drive/Shareddrives/GOFOODA/data/test_image/찜닭_26/*\n",
            "/content/drive/Shareddrives/GOFOODA/data/test_image/파전_27/*\n",
            "/content/drive/Shareddrives/GOFOODA/data/test_image/피자_28/*\n",
            "/content/drive/Shareddrives/GOFOODA/data/test_image/후라이드치킨_29/*\n"
          ],
          "name": "stdout"
        },
        {
          "output_type": "execute_result",
          "data": {
            "text/plain": [
              "(112,\n",
              " ['/content/drive/Shareddrives/GOFOODA/data/test_image/갈비구이_0/Screenshot from 2020-11-13 17-07-39.png',\n",
              "  '/content/drive/Shareddrives/GOFOODA/data/test_image/갈비구이_0/Screenshot from 2020-11-13 17-07-57.png',\n",
              "  '/content/drive/Shareddrives/GOFOODA/data/test_image/갈비구이_0/Screenshot from 2020-11-13 16-36-23.png',\n",
              "  '/content/drive/Shareddrives/GOFOODA/data/test_image/갈비구이_0/Screenshot from 2020-11-13 17-05-48.png',\n",
              "  '/content/drive/Shareddrives/GOFOODA/data/test_image/갈비구이_0/Screenshot from 2020-11-13 16-38-33.png'])"
            ]
          },
          "metadata": {
            "tags": []
          },
          "execution_count": 95
        }
      ]
    },
    {
      "cell_type": "code",
      "metadata": {
        "id": "fvfHStJBMVe8"
      },
      "source": [
        ""
      ],
      "execution_count": null,
      "outputs": []
    }
  ]
}