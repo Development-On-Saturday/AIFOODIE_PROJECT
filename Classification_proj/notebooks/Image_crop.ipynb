{
  "nbformat": 4,
  "nbformat_minor": 0,
  "metadata": {
    "colab": {
      "name": "Image_crop.ipynb",
      "provenance": [],
      "collapsed_sections": []
    },
    "kernelspec": {
      "name": "python3",
      "display_name": "Python 3"
    },
    "widgets": {
      "application/vnd.jupyter.widget-state+json": {
        "29ec28856c224f4a9073854385d6c736": {
          "model_module": "@jupyter-widgets/controls",
          "model_name": "HBoxModel",
          "state": {
            "_view_name": "HBoxView",
            "_dom_classes": [],
            "_model_name": "HBoxModel",
            "_view_module": "@jupyter-widgets/controls",
            "_model_module_version": "1.5.0",
            "_view_count": null,
            "_view_module_version": "1.5.0",
            "box_style": "",
            "layout": "IPY_MODEL_19c408aaf6c84fcf9149aea4360b142f",
            "_model_module": "@jupyter-widgets/controls",
            "children": [
              "IPY_MODEL_7f31eedf13b847a3883ab3565f8c2f60",
              "IPY_MODEL_98c9447e76614e0994f37b88ce5b10d0"
            ]
          }
        },
        "19c408aaf6c84fcf9149aea4360b142f": {
          "model_module": "@jupyter-widgets/base",
          "model_name": "LayoutModel",
          "state": {
            "_view_name": "LayoutView",
            "grid_template_rows": null,
            "right": null,
            "justify_content": null,
            "_view_module": "@jupyter-widgets/base",
            "overflow": null,
            "_model_module_version": "1.2.0",
            "_view_count": null,
            "flex_flow": null,
            "width": null,
            "min_width": null,
            "border": null,
            "align_items": null,
            "bottom": null,
            "_model_module": "@jupyter-widgets/base",
            "top": null,
            "grid_column": null,
            "overflow_y": null,
            "overflow_x": null,
            "grid_auto_flow": null,
            "grid_area": null,
            "grid_template_columns": null,
            "flex": null,
            "_model_name": "LayoutModel",
            "justify_items": null,
            "grid_row": null,
            "max_height": null,
            "align_content": null,
            "visibility": null,
            "align_self": null,
            "height": null,
            "min_height": null,
            "padding": null,
            "grid_auto_rows": null,
            "grid_gap": null,
            "max_width": null,
            "order": null,
            "_view_module_version": "1.2.0",
            "grid_template_areas": null,
            "object_position": null,
            "object_fit": null,
            "grid_auto_columns": null,
            "margin": null,
            "display": null,
            "left": null
          }
        },
        "7f31eedf13b847a3883ab3565f8c2f60": {
          "model_module": "@jupyter-widgets/controls",
          "model_name": "FloatProgressModel",
          "state": {
            "_view_name": "ProgressView",
            "style": "IPY_MODEL_75bcf0709b074107a6cd15065409f5d6",
            "_dom_classes": [],
            "description": "100%",
            "_model_name": "FloatProgressModel",
            "bar_style": "success",
            "max": 518,
            "_view_module": "@jupyter-widgets/controls",
            "_model_module_version": "1.5.0",
            "value": 518,
            "_view_count": null,
            "_view_module_version": "1.5.0",
            "orientation": "horizontal",
            "min": 0,
            "description_tooltip": null,
            "_model_module": "@jupyter-widgets/controls",
            "layout": "IPY_MODEL_71b49a53dc1b45a3b6f06618c2748caf"
          }
        },
        "98c9447e76614e0994f37b88ce5b10d0": {
          "model_module": "@jupyter-widgets/controls",
          "model_name": "HTMLModel",
          "state": {
            "_view_name": "HTMLView",
            "style": "IPY_MODEL_0b5ea84c9d3b49b493c78199f6c79b52",
            "_dom_classes": [],
            "description": "",
            "_model_name": "HTMLModel",
            "placeholder": "​",
            "_view_module": "@jupyter-widgets/controls",
            "_model_module_version": "1.5.0",
            "value": " 518/518 [00:14&lt;00:00, 35.84it/s]",
            "_view_count": null,
            "_view_module_version": "1.5.0",
            "description_tooltip": null,
            "_model_module": "@jupyter-widgets/controls",
            "layout": "IPY_MODEL_795c6e1a6bd64d88ba0c2926e0d85305"
          }
        },
        "75bcf0709b074107a6cd15065409f5d6": {
          "model_module": "@jupyter-widgets/controls",
          "model_name": "ProgressStyleModel",
          "state": {
            "_view_name": "StyleView",
            "_model_name": "ProgressStyleModel",
            "description_width": "initial",
            "_view_module": "@jupyter-widgets/base",
            "_model_module_version": "1.5.0",
            "_view_count": null,
            "_view_module_version": "1.2.0",
            "bar_color": null,
            "_model_module": "@jupyter-widgets/controls"
          }
        },
        "71b49a53dc1b45a3b6f06618c2748caf": {
          "model_module": "@jupyter-widgets/base",
          "model_name": "LayoutModel",
          "state": {
            "_view_name": "LayoutView",
            "grid_template_rows": null,
            "right": null,
            "justify_content": null,
            "_view_module": "@jupyter-widgets/base",
            "overflow": null,
            "_model_module_version": "1.2.0",
            "_view_count": null,
            "flex_flow": null,
            "width": null,
            "min_width": null,
            "border": null,
            "align_items": null,
            "bottom": null,
            "_model_module": "@jupyter-widgets/base",
            "top": null,
            "grid_column": null,
            "overflow_y": null,
            "overflow_x": null,
            "grid_auto_flow": null,
            "grid_area": null,
            "grid_template_columns": null,
            "flex": null,
            "_model_name": "LayoutModel",
            "justify_items": null,
            "grid_row": null,
            "max_height": null,
            "align_content": null,
            "visibility": null,
            "align_self": null,
            "height": null,
            "min_height": null,
            "padding": null,
            "grid_auto_rows": null,
            "grid_gap": null,
            "max_width": null,
            "order": null,
            "_view_module_version": "1.2.0",
            "grid_template_areas": null,
            "object_position": null,
            "object_fit": null,
            "grid_auto_columns": null,
            "margin": null,
            "display": null,
            "left": null
          }
        },
        "0b5ea84c9d3b49b493c78199f6c79b52": {
          "model_module": "@jupyter-widgets/controls",
          "model_name": "DescriptionStyleModel",
          "state": {
            "_view_name": "StyleView",
            "_model_name": "DescriptionStyleModel",
            "description_width": "",
            "_view_module": "@jupyter-widgets/base",
            "_model_module_version": "1.5.0",
            "_view_count": null,
            "_view_module_version": "1.2.0",
            "_model_module": "@jupyter-widgets/controls"
          }
        },
        "795c6e1a6bd64d88ba0c2926e0d85305": {
          "model_module": "@jupyter-widgets/base",
          "model_name": "LayoutModel",
          "state": {
            "_view_name": "LayoutView",
            "grid_template_rows": null,
            "right": null,
            "justify_content": null,
            "_view_module": "@jupyter-widgets/base",
            "overflow": null,
            "_model_module_version": "1.2.0",
            "_view_count": null,
            "flex_flow": null,
            "width": null,
            "min_width": null,
            "border": null,
            "align_items": null,
            "bottom": null,
            "_model_module": "@jupyter-widgets/base",
            "top": null,
            "grid_column": null,
            "overflow_y": null,
            "overflow_x": null,
            "grid_auto_flow": null,
            "grid_area": null,
            "grid_template_columns": null,
            "flex": null,
            "_model_name": "LayoutModel",
            "justify_items": null,
            "grid_row": null,
            "max_height": null,
            "align_content": null,
            "visibility": null,
            "align_self": null,
            "height": null,
            "min_height": null,
            "padding": null,
            "grid_auto_rows": null,
            "grid_gap": null,
            "max_width": null,
            "order": null,
            "_view_module_version": "1.2.0",
            "grid_template_areas": null,
            "object_position": null,
            "object_fit": null,
            "grid_auto_columns": null,
            "margin": null,
            "display": null,
            "left": null
          }
        },
        "7967e52fac1c4ab09137acc7fe94a20f": {
          "model_module": "@jupyter-widgets/controls",
          "model_name": "HBoxModel",
          "state": {
            "_view_name": "HBoxView",
            "_dom_classes": [],
            "_model_name": "HBoxModel",
            "_view_module": "@jupyter-widgets/controls",
            "_model_module_version": "1.5.0",
            "_view_count": null,
            "_view_module_version": "1.5.0",
            "box_style": "",
            "layout": "IPY_MODEL_6d7d6fa90ced4a5985f5e98cecc1675d",
            "_model_module": "@jupyter-widgets/controls",
            "children": [
              "IPY_MODEL_c397f26f05764c009418d92cbd750659",
              "IPY_MODEL_2ed112a14dc04986921ab03fd7b5cb09"
            ]
          }
        },
        "6d7d6fa90ced4a5985f5e98cecc1675d": {
          "model_module": "@jupyter-widgets/base",
          "model_name": "LayoutModel",
          "state": {
            "_view_name": "LayoutView",
            "grid_template_rows": null,
            "right": null,
            "justify_content": null,
            "_view_module": "@jupyter-widgets/base",
            "overflow": null,
            "_model_module_version": "1.2.0",
            "_view_count": null,
            "flex_flow": null,
            "width": null,
            "min_width": null,
            "border": null,
            "align_items": null,
            "bottom": null,
            "_model_module": "@jupyter-widgets/base",
            "top": null,
            "grid_column": null,
            "overflow_y": null,
            "overflow_x": null,
            "grid_auto_flow": null,
            "grid_area": null,
            "grid_template_columns": null,
            "flex": null,
            "_model_name": "LayoutModel",
            "justify_items": null,
            "grid_row": null,
            "max_height": null,
            "align_content": null,
            "visibility": null,
            "align_self": null,
            "height": null,
            "min_height": null,
            "padding": null,
            "grid_auto_rows": null,
            "grid_gap": null,
            "max_width": null,
            "order": null,
            "_view_module_version": "1.2.0",
            "grid_template_areas": null,
            "object_position": null,
            "object_fit": null,
            "grid_auto_columns": null,
            "margin": null,
            "display": null,
            "left": null
          }
        },
        "c397f26f05764c009418d92cbd750659": {
          "model_module": "@jupyter-widgets/controls",
          "model_name": "FloatProgressModel",
          "state": {
            "_view_name": "ProgressView",
            "style": "IPY_MODEL_86bcba8cefd9429a88014205a4afc5dc",
            "_dom_classes": [],
            "description": "100%",
            "_model_name": "FloatProgressModel",
            "bar_style": "success",
            "max": 1002,
            "_view_module": "@jupyter-widgets/controls",
            "_model_module_version": "1.5.0",
            "value": 1002,
            "_view_count": null,
            "_view_module_version": "1.5.0",
            "orientation": "horizontal",
            "min": 0,
            "description_tooltip": null,
            "_model_module": "@jupyter-widgets/controls",
            "layout": "IPY_MODEL_c12c2f089441461daccd9d374a81a070"
          }
        },
        "2ed112a14dc04986921ab03fd7b5cb09": {
          "model_module": "@jupyter-widgets/controls",
          "model_name": "HTMLModel",
          "state": {
            "_view_name": "HTMLView",
            "style": "IPY_MODEL_868337e803d64703b49311d750a6fb19",
            "_dom_classes": [],
            "description": "",
            "_model_name": "HTMLModel",
            "placeholder": "​",
            "_view_module": "@jupyter-widgets/controls",
            "_model_module_version": "1.5.0",
            "value": " 1002/1002 [00:03&lt;00:00, 278.97it/s]",
            "_view_count": null,
            "_view_module_version": "1.5.0",
            "description_tooltip": null,
            "_model_module": "@jupyter-widgets/controls",
            "layout": "IPY_MODEL_2a141df887cf428d98c42cecbcf97d88"
          }
        },
        "86bcba8cefd9429a88014205a4afc5dc": {
          "model_module": "@jupyter-widgets/controls",
          "model_name": "ProgressStyleModel",
          "state": {
            "_view_name": "StyleView",
            "_model_name": "ProgressStyleModel",
            "description_width": "initial",
            "_view_module": "@jupyter-widgets/base",
            "_model_module_version": "1.5.0",
            "_view_count": null,
            "_view_module_version": "1.2.0",
            "bar_color": null,
            "_model_module": "@jupyter-widgets/controls"
          }
        },
        "c12c2f089441461daccd9d374a81a070": {
          "model_module": "@jupyter-widgets/base",
          "model_name": "LayoutModel",
          "state": {
            "_view_name": "LayoutView",
            "grid_template_rows": null,
            "right": null,
            "justify_content": null,
            "_view_module": "@jupyter-widgets/base",
            "overflow": null,
            "_model_module_version": "1.2.0",
            "_view_count": null,
            "flex_flow": null,
            "width": null,
            "min_width": null,
            "border": null,
            "align_items": null,
            "bottom": null,
            "_model_module": "@jupyter-widgets/base",
            "top": null,
            "grid_column": null,
            "overflow_y": null,
            "overflow_x": null,
            "grid_auto_flow": null,
            "grid_area": null,
            "grid_template_columns": null,
            "flex": null,
            "_model_name": "LayoutModel",
            "justify_items": null,
            "grid_row": null,
            "max_height": null,
            "align_content": null,
            "visibility": null,
            "align_self": null,
            "height": null,
            "min_height": null,
            "padding": null,
            "grid_auto_rows": null,
            "grid_gap": null,
            "max_width": null,
            "order": null,
            "_view_module_version": "1.2.0",
            "grid_template_areas": null,
            "object_position": null,
            "object_fit": null,
            "grid_auto_columns": null,
            "margin": null,
            "display": null,
            "left": null
          }
        },
        "868337e803d64703b49311d750a6fb19": {
          "model_module": "@jupyter-widgets/controls",
          "model_name": "DescriptionStyleModel",
          "state": {
            "_view_name": "StyleView",
            "_model_name": "DescriptionStyleModel",
            "description_width": "",
            "_view_module": "@jupyter-widgets/base",
            "_model_module_version": "1.5.0",
            "_view_count": null,
            "_view_module_version": "1.2.0",
            "_model_module": "@jupyter-widgets/controls"
          }
        },
        "2a141df887cf428d98c42cecbcf97d88": {
          "model_module": "@jupyter-widgets/base",
          "model_name": "LayoutModel",
          "state": {
            "_view_name": "LayoutView",
            "grid_template_rows": null,
            "right": null,
            "justify_content": null,
            "_view_module": "@jupyter-widgets/base",
            "overflow": null,
            "_model_module_version": "1.2.0",
            "_view_count": null,
            "flex_flow": null,
            "width": null,
            "min_width": null,
            "border": null,
            "align_items": null,
            "bottom": null,
            "_model_module": "@jupyter-widgets/base",
            "top": null,
            "grid_column": null,
            "overflow_y": null,
            "overflow_x": null,
            "grid_auto_flow": null,
            "grid_area": null,
            "grid_template_columns": null,
            "flex": null,
            "_model_name": "LayoutModel",
            "justify_items": null,
            "grid_row": null,
            "max_height": null,
            "align_content": null,
            "visibility": null,
            "align_self": null,
            "height": null,
            "min_height": null,
            "padding": null,
            "grid_auto_rows": null,
            "grid_gap": null,
            "max_width": null,
            "order": null,
            "_view_module_version": "1.2.0",
            "grid_template_areas": null,
            "object_position": null,
            "object_fit": null,
            "grid_auto_columns": null,
            "margin": null,
            "display": null,
            "left": null
          }
        }
      }
    }
  },
  "cells": [
    {
      "cell_type": "markdown",
      "metadata": {
        "id": "q68kx1lySrdP"
      },
      "source": [
        "1. 경로 읽어들이기 읽어들이기\n",
        "    - ```glob``` 활용\n",
        "    - croparea.properties, 이미지들의 경로가 포함되어 있음\n",
        "    - 일단 이 경로를 그대로 함수에 전달\n",
        "2. ```cropping``` 함수\n",
        "    - input : 경로가 담긴 list형태로 입력\n",
        "<br>   \n",
        "    - 다음과 같은 작업을 수행\n",
        "        1. ```crop_area.properties``` 경로 저장  \n",
        "        2. ```crop_area.properties``` 파일을 읽고 반복문 실행\n",
        "        3. crop영역에 대한 정보를 저정\n",
        "            - x, y, w, h 정보\n",
        "            - ```img[y, y+h, x, x+w]```\n",
        "        4. crop_area에서 명시해주는 파일명을 이용, img 경로를 활용해서 Image 열기\n",
        "        5. 다음과 같은 형식으로 Image를 crop 시도\n",
        "            1. Pillow로 이미지 읽기\n",
        "            2. RGBA 형식을 RGB로 변환\n",
        "            3. 지정한 범위로 이미지를 크롭\n",
        "            4. 새로운 경로에 이미지를 저장\n",
        "        6. cropping을 하지 않은 온전한 이미지를 저장 디렉토리에 복사"
      ]
    },
    {
      "cell_type": "code",
      "metadata": {
        "id": "84J49aQ83CCC"
      },
      "source": [
        "import os\n",
        "import shutil\n",
        "from glob import glob\n",
        "from PIL import Image\n",
        "\n",
        "import tensorflow as tf\n",
        "import numpy as np\n",
        "from tqdm.notebook import tqdm"
      ],
      "execution_count": null,
      "outputs": []
    },
    {
      "cell_type": "code",
      "metadata": {
        "id": "iGkpUk90Vje9",
        "colab": {
          "base_uri": "https://localhost:8080/",
          "height": 34
        },
        "outputId": "d1bbaf6e-851a-4ccb-8886-d48e662d46b5"
      },
      "source": [
        "os.listdir()"
      ],
      "execution_count": null,
      "outputs": [
        {
          "output_type": "execute_result",
          "data": {
            "text/plain": [
              "['.config', 'drive', 'sample_data']"
            ]
          },
          "metadata": {
            "tags": []
          },
          "execution_count": 2
        }
      ]
    },
    {
      "cell_type": "code",
      "metadata": {
        "id": "HuXrgg2FUOXP"
      },
      "source": [
        "# 물냉면을 예로 들었을 때\n",
        "class_paths = glob('/content/drive/My Drive/data/kfood/물냉면/*')"
      ],
      "execution_count": null,
      "outputs": []
    },
    {
      "cell_type": "code",
      "metadata": {
        "id": "_OLG8XH0ZboL"
      },
      "source": [
        "def ret_img_path(all_paths, fname) :\n",
        "    for path in all_paths :\n",
        "        if fname in path:\n",
        "            return path"
      ],
      "execution_count": null,
      "outputs": []
    },
    {
      "cell_type": "code",
      "metadata": {
        "id": "U9xDpBwNbqEq",
        "colab": {
          "base_uri": "https://localhost:8080/",
          "height": 35
        },
        "outputId": "8cf9f581-350e-4815-a459-97de9868f45a"
      },
      "source": [
        "class_paths[0].split('/')[-1]"
      ],
      "execution_count": null,
      "outputs": [
        {
          "output_type": "execute_result",
          "data": {
            "application/vnd.google.colaboratory.intrinsic+json": {
              "type": "string"
            },
            "text/plain": [
              "'Img_052_0593.jpg'"
            ]
          },
          "metadata": {
            "tags": []
          },
          "execution_count": 6
        }
      ]
    },
    {
      "cell_type": "code",
      "metadata": {
        "id": "0q5ZIoOUUo1V"
      },
      "source": [
        "def cropping(class_paths):\n",
        "    # 결과물은 새로운 폴더에 저장\n",
        "    # 클래스명을 활용해서 cropped_'class'폴더 생성\n",
        "    class_name = class_paths[0].split('/')[-2]\n",
        "    save_dir_path = '/content/drive/My Drive/data/kfood/cropped_' + class_name + '/'\n",
        "    if not os.path.exists(save_dir_path):\n",
        "        os.makedirs(save_dir_path)\n",
        "\n",
        "    # crop_area path 저장\n",
        "    for path in class_paths :\n",
        "        if 'crop_area' in path :\n",
        "            crop_path = path\n",
        "            break\n",
        "\n",
        "    # crop_area파일 읽기\n",
        "    f = open(crop_path, 'r')\n",
        "    data = f.read()\n",
        "    f.close()\n",
        "\n",
        "    crop_infos = data.split('\\n')\n",
        "    cropped_fname = []\n",
        "\n",
        "    # crop에 대한 정보가 있는 파일들은 crop을 하고,\n",
        "    # 앞에서 새로 만든 cropped_classname 디렉터리에 저장\n",
        "    print(\"crop 시작\")\n",
        "    for crop_info in tqdm(crop_infos) :\n",
        "\n",
        "        fname = crop_info.split('=')[0]\n",
        "        try :\n",
        "            x, y, w, h = list(map(int, crop_info.split('=')[-1].split(',')))\n",
        "        except :\n",
        "            pass\n",
        "\n",
        "        cropped_fname.append(fname)\n",
        "        \n",
        "        img_path = ret_img_path(class_paths, fname)\n",
        "        image = Image.open(img_path)\n",
        "        image = image.convert(\"RGB\")\n",
        "        cropped_img = image.crop((x, y, x+w, y+h))\n",
        "        cropped_img.save(save_dir_path + 'cropped_' + fname + '.jpg')\n",
        "\n",
        "    print(\"crop 끝\")\n",
        "    \n",
        "    print(\"\\n\\ncrop을 하지 않은 이미지를 복사 중입니다.\")\n",
        "    print(\"잠시만 기다려 주세요\")\n",
        "    # crop이 필요없는 image들의 경우..\n",
        "    # crop 경로에 똑같이 복사를 해준다\n",
        "    for path in tqdm(class_paths):\n",
        "        fname = path.split('/')[-1].split('.')[0]\n",
        "        if fname not in cropped_fname and 'csv' not in path and 'properties' not in path:\n",
        "            shutil.copy(path, save_dir_path)"
      ],
      "execution_count": null,
      "outputs": []
    },
    {
      "cell_type": "code",
      "metadata": {
        "id": "g_-IfXV47Wq0",
        "colab": {
          "base_uri": "https://localhost:8080/",
          "height": 34
        },
        "outputId": "ec5f7130-c1e1-425d-da89-0b2eff87d91a"
      },
      "source": [
        "mulnang = glob('/content/drive/My Drive/data/kfood/물냉면/*')\n",
        "len(mulnang)"
      ],
      "execution_count": null,
      "outputs": [
        {
          "output_type": "execute_result",
          "data": {
            "text/plain": [
              "1002"
            ]
          },
          "metadata": {
            "tags": []
          },
          "execution_count": 8
        }
      ]
    },
    {
      "cell_type": "code",
      "metadata": {
        "id": "j8hQyyDyo-99",
        "colab": {
          "base_uri": "https://localhost:8080/",
          "height": 217,
          "referenced_widgets": [
            "29ec28856c224f4a9073854385d6c736",
            "19c408aaf6c84fcf9149aea4360b142f",
            "7f31eedf13b847a3883ab3565f8c2f60",
            "98c9447e76614e0994f37b88ce5b10d0",
            "75bcf0709b074107a6cd15065409f5d6",
            "71b49a53dc1b45a3b6f06618c2748caf",
            "0b5ea84c9d3b49b493c78199f6c79b52",
            "795c6e1a6bd64d88ba0c2926e0d85305",
            "7967e52fac1c4ab09137acc7fe94a20f",
            "6d7d6fa90ced4a5985f5e98cecc1675d",
            "c397f26f05764c009418d92cbd750659",
            "2ed112a14dc04986921ab03fd7b5cb09",
            "86bcba8cefd9429a88014205a4afc5dc",
            "c12c2f089441461daccd9d374a81a070",
            "868337e803d64703b49311d750a6fb19",
            "2a141df887cf428d98c42cecbcf97d88"
          ]
        },
        "outputId": "eee2367c-1ff0-47a7-f251-29df2371c3ab"
      },
      "source": [
        "cropping(mulnang)"
      ],
      "execution_count": null,
      "outputs": [
        {
          "output_type": "stream",
          "text": [
            "crop 시작\n"
          ],
          "name": "stdout"
        },
        {
          "output_type": "display_data",
          "data": {
            "application/vnd.jupyter.widget-view+json": {
              "model_id": "29ec28856c224f4a9073854385d6c736",
              "version_minor": 0,
              "version_major": 2
            },
            "text/plain": [
              "HBox(children=(FloatProgress(value=0.0, max=518.0), HTML(value='')))"
            ]
          },
          "metadata": {
            "tags": []
          }
        },
        {
          "output_type": "stream",
          "text": [
            "\n",
            "crop 끝\n",
            "\n",
            "\n",
            "crop을 하지 않은 이미지를 복사 중입니다.\n",
            "잠시만 기다려 주세요\n"
          ],
          "name": "stdout"
        },
        {
          "output_type": "display_data",
          "data": {
            "application/vnd.jupyter.widget-view+json": {
              "model_id": "7967e52fac1c4ab09137acc7fe94a20f",
              "version_minor": 0,
              "version_major": 2
            },
            "text/plain": [
              "HBox(children=(FloatProgress(value=0.0, max=1002.0), HTML(value='')))"
            ]
          },
          "metadata": {
            "tags": []
          }
        },
        {
          "output_type": "stream",
          "text": [
            "\n"
          ],
          "name": "stdout"
        }
      ]
    },
    {
      "cell_type": "code",
      "metadata": {
        "id": "BHBKyh1a8Ar6",
        "colab": {
          "base_uri": "https://localhost:8080/",
          "height": 34
        },
        "outputId": "52123eb4-823d-496e-b3a0-e55ca0de0c7d"
      },
      "source": [
        "len(os.listdir('/content/drive/My Drive/data/kfood/cropped_물냉면/'))"
      ],
      "execution_count": null,
      "outputs": [
        {
          "output_type": "execute_result",
          "data": {
            "text/plain": [
              "1001"
            ]
          },
          "metadata": {
            "tags": []
          },
          "execution_count": 10
        }
      ]
    },
    {
      "cell_type": "code",
      "metadata": {
        "id": "GJkMS0I2Aoaf"
      },
      "source": [
        ""
      ],
      "execution_count": null,
      "outputs": []
    }
  ]
}