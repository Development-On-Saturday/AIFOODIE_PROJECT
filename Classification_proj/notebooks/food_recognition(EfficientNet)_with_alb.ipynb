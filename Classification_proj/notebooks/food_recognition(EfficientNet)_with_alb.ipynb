{
  "nbformat": 4,
  "nbformat_minor": 0,
  "metadata": {
    "colab": {
      "name": "food_recognition(EfficientNet) with alb.ipynb",
      "provenance": [],
      "collapsed_sections": [],
      "machine_shape": "hm"
    },
    "kernelspec": {
      "name": "python3",
      "display_name": "Python 3"
    },
    "accelerator": "GPU"
  },
  "cells": [
    {
      "cell_type": "code",
      "metadata": {
        "id": "zI1v2hZEWYa5"
      },
      "source": [
        "!rm -rf Team3_repo"
      ],
      "execution_count": 1,
      "outputs": []
    },
    {
      "cell_type": "code",
      "metadata": {
        "colab": {
          "base_uri": "https://localhost:8080/"
        },
        "id": "32UBmvsQOhzD",
        "outputId": "e35b6e10-7b6d-4bf4-fe85-b68a03733bdb"
      },
      "source": [
        "!git clone https://github.com/Jungminchae/Team3_repo.git"
      ],
      "execution_count": 2,
      "outputs": [
        {
          "output_type": "stream",
          "text": [
            "Cloning into 'Team3_repo'...\n",
            "remote: Enumerating objects: 5, done.\u001b[K\n",
            "remote: Counting objects: 100% (5/5), done.\u001b[K\n",
            "remote: Compressing objects: 100% (5/5), done.\u001b[K\n",
            "remote: Total 442 (delta 0), reused 1 (delta 0), pack-reused 437\u001b[K\n",
            "Receiving objects: 100% (442/442), 9.35 MiB | 34.46 MiB/s, done.\n",
            "Resolving deltas: 100% (222/222), done.\n"
          ],
          "name": "stdout"
        }
      ]
    },
    {
      "cell_type": "code",
      "metadata": {
        "id": "CHO10K69PAaa"
      },
      "source": [
        "# !pip install wandb"
      ],
      "execution_count": 3,
      "outputs": []
    },
    {
      "cell_type": "code",
      "metadata": {
        "id": "3e2iWYkJOy8F"
      },
      "source": [
        "# import wandb\n",
        "\n",
        "# wandb.init(project=\"EfficientFood\", reinit=True)\n",
        "# wandb.log({\"loss\" : loss, \"val_loss\":val_loss, \"val_acc\" : val_accuracy})"
      ],
      "execution_count": 4,
      "outputs": []
    },
    {
      "cell_type": "code",
      "metadata": {
        "colab": {
          "base_uri": "https://localhost:8080/"
        },
        "id": "UtWQBtKI6_JG",
        "outputId": "5e51c177-a2ba-4f12-e10e-c85992edf0eb"
      },
      "source": [
        "from google.colab import drive\n",
        "drive.mount('/content/drive')"
      ],
      "execution_count": 5,
      "outputs": [
        {
          "output_type": "stream",
          "text": [
            "Mounted at /content/drive\n"
          ],
          "name": "stdout"
        }
      ]
    },
    {
      "cell_type": "code",
      "metadata": {
        "id": "XOkuVqUsOeDE"
      },
      "source": [
        "import sys\n",
        "sys.path.append('/content/Team3_repo/hackathon/notebooks')\n",
        "sys.path.append('/content/Team3_repo/hackathon/food_30')"
      ],
      "execution_count": 6,
      "outputs": []
    },
    {
      "cell_type": "code",
      "metadata": {
        "id": "XIC8fpg9nIY5"
      },
      "source": [
        "import os\n",
        "from glob import glob\n",
        "import numpy as np\n",
        "import tensorflow as tf\n",
        "import matplotlib.pyplot as plt\n",
        "from dataAugmentation import DataPreprocessing\n",
        "from utils import CosineAnnealingScheduler\n",
        "tf.random.set_seed(2020)"
      ],
      "execution_count": 7,
      "outputs": []
    },
    {
      "cell_type": "markdown",
      "metadata": {
        "id": "LQzlR1bVnZio"
      },
      "source": [
        "# 1. tfrecord load with aug"
      ]
    },
    {
      "cell_type": "code",
      "metadata": {
        "id": "77OcmcTasK1D"
      },
      "source": [
        "DATASET_SIZE = 92478\n",
        "BATCH_SIZE = 128\n",
        "IMAGE_SIZE = 224\n",
        "\n",
        "MODEL_NAME = \"Model_01\"\n",
        "## 모델 체크포인트 경로 설정\n",
        "mc_dir_path = '/content/drive/Shareddrives/GOFOODA/data/models_with100/EfficientNetB0_alb_checkpoint/'\n",
        "if not os.path.exists(mc_dir_path):\n",
        "    print('making directory')\n",
        "    os.makedirs(mc_dir_path)"
      ],
      "execution_count": 8,
      "outputs": []
    },
    {
      "cell_type": "code",
      "metadata": {
        "id": "voy3_a8jQ8tx",
        "colab": {
          "base_uri": "https://localhost:8080/"
        },
        "outputId": "8e6700cc-6ad9-401e-fbec-4a6158350c5e"
      },
      "source": [
        "tfr_train_dir = '/content/drive/Shared drives/GOFOODA/data/food_data.tfr'\n",
        "dp_new = DataPreprocessing(tfr_train_dir,image_size=IMAGE_SIZE, batch_size=BATCH_SIZE, buffer_size=DATASET_SIZE, dataset_size=DATASET_SIZE, num_class=100)\n",
        "train_ds, valid_ds = dp_new()"
      ],
      "execution_count": 9,
      "outputs": [
        {
          "output_type": "stream",
          "text": [
            "True in data_alb func\n"
          ],
          "name": "stdout"
        }
      ]
    },
    {
      "cell_type": "markdown",
      "metadata": {
        "id": "NH_F2QlvxOfG"
      },
      "source": [
        "# 모델 생성\n",
        "---\n",
        "기존의 EfficientNetB0모델을 가져온다."
      ]
    },
    {
      "cell_type": "code",
      "metadata": {
        "id": "ryaXnTf8rWIy"
      },
      "source": [
        "train_size = int(0.8*DATASET_SIZE)\n",
        "valid_size = int(0.2*DATASET_SIZE)"
      ],
      "execution_count": 10,
      "outputs": []
    },
    {
      "cell_type": "code",
      "metadata": {
        "id": "pO5TU61JxmPE",
        "colab": {
          "base_uri": "https://localhost:8080/"
        },
        "outputId": "a6e0f2f5-0556-4a8b-cef6-140e1857b72d"
      },
      "source": [
        "base_model = tf.keras.applications.EfficientNetB0(\n",
        "    input_shape=(224, 224, 3),\n",
        "    include_top=False,\n",
        "    weights='imagenet'\n",
        "    )\n",
        "base_model.trainable = False\n",
        "\n",
        "base_model.layers[-5:]"
      ],
      "execution_count": 11,
      "outputs": [
        {
          "output_type": "execute_result",
          "data": {
            "text/plain": [
              "[<tensorflow.python.keras.layers.convolutional.Conv2D at 0x7fbba0847f28>,\n",
              " <tensorflow.python.keras.layers.normalization_v2.BatchNormalization at 0x7fbba0850b00>,\n",
              " <tensorflow.python.keras.layers.convolutional.Conv2D at 0x7fbba0850f98>,\n",
              " <tensorflow.python.keras.layers.normalization_v2.BatchNormalization at 0x7fbba0867a90>,\n",
              " <tensorflow.python.keras.layers.core.Activation at 0x7fbba08756d8>]"
            ]
          },
          "metadata": {
            "tags": []
          },
          "execution_count": 11
        }
      ]
    },
    {
      "cell_type": "code",
      "metadata": {
        "id": "uX1f6aGIy1YB",
        "colab": {
          "base_uri": "https://localhost:8080/"
        },
        "outputId": "8ac08fc5-f7c1-455b-fad5-8ce3e4825ebc"
      },
      "source": [
        "GAP_layer = tf.keras.layers.GlobalAveragePooling2D()\n",
        "BN_layer = tf.keras.layers.BatchNormalization()\n",
        "#dense_layer = tf.keras.layers.Dense(512, activation='relu')\n",
        "prediction_layer = tf.keras.layers.Dense(100, activation='softmax')\n",
        "\n",
        "model = tf.keras.Sequential([\n",
        "                             base_model,\n",
        "                             GAP_layer,\n",
        "                             BN_layer,\n",
        "                             prediction_layer\n",
        "])\n",
        "model.summary()"
      ],
      "execution_count": 12,
      "outputs": [
        {
          "output_type": "stream",
          "text": [
            "Model: \"sequential\"\n",
            "_________________________________________________________________\n",
            "Layer (type)                 Output Shape              Param #   \n",
            "=================================================================\n",
            "efficientnetb0 (Functional)  (None, 7, 7, 1280)        4049571   \n",
            "_________________________________________________________________\n",
            "global_average_pooling2d (Gl (None, 1280)              0         \n",
            "_________________________________________________________________\n",
            "batch_normalization (BatchNo (None, 1280)              5120      \n",
            "_________________________________________________________________\n",
            "dense (Dense)                (None, 100)               128100    \n",
            "=================================================================\n",
            "Total params: 4,182,791\n",
            "Trainable params: 130,660\n",
            "Non-trainable params: 4,052,131\n",
            "_________________________________________________________________\n"
          ],
          "name": "stdout"
        }
      ]
    },
    {
      "cell_type": "code",
      "metadata": {
        "id": "m-Q4v9n-ztZg"
      },
      "source": [
        "# EarlyStopping\n",
        "import datetime\n",
        "\n",
        "es = tf.keras.callbacks.EarlyStopping(monitor='val_loss', patience=10)\n",
        "\n",
        "ca = CosineAnnealingScheduler(T_max=100, eta_max=1e-3, eta_min=3e-5, verbose=1)\n",
        "cd = tf.keras.experimental.CosineDecay(1e-3, decay_steps=train_size, alpha=0.0)\n",
        "log_dir = \"/content/drive/Shareddrives/GOFOODA/data/models_with100/logs/fit/\" + datetime.datetime.now().strftime(\"%Y%m%d-%H%M%S\")\n",
        "tb = tf.keras.callbacks.TensorBoard(log_dir=log_dir, histogram_freq=1)"
      ],
      "execution_count": 11,
      "outputs": []
    },
    {
      "cell_type": "code",
      "metadata": {
        "id": "0vbfddhBrRxs"
      },
      "source": [
        "#weight warm up\n",
        "model.compile(\n",
        "    optimizer = tf.keras.optimizers.Adam(learning_rate=1e-2),\n",
        "    loss = tf.keras.losses.categorical_crossentropy,\n",
        "    metrics=['accuracy']\n",
        ")"
      ],
      "execution_count": 14,
      "outputs": []
    },
    {
      "cell_type": "code",
      "metadata": {
        "colab": {
          "base_uri": "https://localhost:8080/"
        },
        "id": "CGu-Os8DrYZc",
        "outputId": "9dc11259-f39b-4996-f061-923884aaf283"
      },
      "source": [
        "es = tf.keras.callbacks.EarlyStopping(monitor='val_loss', patience=3)\n",
        "\n",
        "history = model.fit(\n",
        "    train_ds,\n",
        "    epochs=20,\n",
        "    validation_data = valid_ds,\n",
        "    steps_per_epoch=train_size//BATCH_SIZE,\n",
        "    callbacks=[es]\n",
        ")\n",
        "\n",
        "warmup_model_path = os.path.join(mc_dir_path, 'WARPUP_'+MODEL_NAME)\n",
        "model.save(warmup_model_path)"
      ],
      "execution_count": 15,
      "outputs": [
        {
          "output_type": "stream",
          "text": [
            "Epoch 1/20\n",
            "577/577 [==============================] - 272s 472ms/step - loss: 1.6798 - accuracy: 0.5791 - val_loss: 0.9560 - val_accuracy: 0.7226\n",
            "Epoch 2/20\n",
            "577/577 [==============================] - 269s 467ms/step - loss: 1.1685 - accuracy: 0.6664 - val_loss: 0.8833 - val_accuracy: 0.7391\n",
            "Epoch 3/20\n",
            "577/577 [==============================] - 268s 465ms/step - loss: 1.1125 - accuracy: 0.6819 - val_loss: 0.8425 - val_accuracy: 0.7543\n",
            "Epoch 4/20\n",
            "577/577 [==============================] - 268s 465ms/step - loss: 1.0860 - accuracy: 0.6895 - val_loss: 0.8349 - val_accuracy: 0.7525\n",
            "Epoch 5/20\n",
            "577/577 [==============================] - 267s 463ms/step - loss: 1.0681 - accuracy: 0.6941 - val_loss: 0.7934 - val_accuracy: 0.7688\n",
            "Epoch 6/20\n",
            "577/577 [==============================] - 272s 471ms/step - loss: 1.0679 - accuracy: 0.6954 - val_loss: 0.7753 - val_accuracy: 0.7693\n",
            "Epoch 7/20\n",
            "577/577 [==============================] - 275s 477ms/step - loss: 1.0536 - accuracy: 0.6998 - val_loss: 0.7538 - val_accuracy: 0.7729\n",
            "Epoch 8/20\n",
            "577/577 [==============================] - 320s 554ms/step - loss: 1.0502 - accuracy: 0.7020 - val_loss: 0.7794 - val_accuracy: 0.7685\n",
            "Epoch 9/20\n",
            "577/577 [==============================] - 307s 531ms/step - loss: 1.0502 - accuracy: 0.7005 - val_loss: 0.7603 - val_accuracy: 0.7747\n",
            "Epoch 10/20\n",
            "577/577 [==============================] - 309s 536ms/step - loss: 1.0433 - accuracy: 0.7034 - val_loss: 0.7560 - val_accuracy: 0.7751\n",
            "WARNING:tensorflow:From /usr/local/lib/python3.6/dist-packages/tensorflow/python/training/tracking/tracking.py:111: Model.state_updates (from tensorflow.python.keras.engine.training) is deprecated and will be removed in a future version.\n",
            "Instructions for updating:\n",
            "This property should not be used in TensorFlow 2.0, as updates are applied automatically.\n",
            "WARNING:tensorflow:From /usr/local/lib/python3.6/dist-packages/tensorflow/python/training/tracking/tracking.py:111: Layer.updates (from tensorflow.python.keras.engine.base_layer) is deprecated and will be removed in a future version.\n",
            "Instructions for updating:\n",
            "This property should not be used in TensorFlow 2.0, as updates are applied automatically.\n",
            "INFO:tensorflow:Assets written to: /content/drive/Shareddrives/GOFOODA/data/models_with100/EfficientNetB0_alb_checkpoint/WARPUP_Model_01/assets\n"
          ],
          "name": "stdout"
        }
      ]
    },
    {
      "cell_type": "markdown",
      "metadata": {
        "id": "IWx0Zp2rt2d-"
      },
      "source": [
        "### Done top layer weight warm-up Let's do fine tune\n"
      ]
    },
    {
      "cell_type": "code",
      "metadata": {
        "id": "Wj0MJkLq0G9I"
      },
      "source": [
        "mc_dir_path = '/content/drive/Shareddrives/GOFOODA/data/models_with100/EfficientNetB0_alb_checkpoint/'\n",
        "if not os.path.exists(mc_dir_path):\n",
        "    print('making directory')\n",
        "    os.makedirs(mc_dir_path)\n",
        "# mc_path = os.path.join(mc_dir_path, 'EfficientNet_alb.h5')\n",
        "# print(f\"mc_path : {mc_path}\")\n",
        "\n",
        "# ModelCheckpoint\n",
        "mc = tf.keras.callbacks.ModelCheckpoint(\n",
        "    filepath=mc_dir_path+'final_alb_tuned_{epoch}-{val_loss:.2f}-{val_accuracy:.2f}.h5',\n",
        "    monitor='val_accuracy',\n",
        "    save_best_only=True,\n",
        "    verbose=1,\n",
        "    )\n",
        "\n",
        "es = tf.keras.callbacks.EarlyStopping(monitor='val_loss', patience=10)"
      ],
      "execution_count": 14,
      "outputs": []
    },
    {
      "cell_type": "code",
      "metadata": {
        "id": "v3pREY0JDJZB"
      },
      "source": [
        "# load checkpoint\n",
        "model = tf.keras.models.load_model('/content/drive/Shareddrives/GOFOODA/data/models_with100/EfficientNetB0_alb_checkpoint/alb_tuned_15-0.15-0.95.h5')"
      ],
      "execution_count": 12,
      "outputs": []
    },
    {
      "cell_type": "code",
      "metadata": {
        "id": "cFtH5XJGMi7G"
      },
      "source": [
        "#after weight warm up\n",
        "#now unfreeze some layers from the top\n",
        "def unfreeze_model(model):\n",
        "  for layer in model.layers[-8:]:\n",
        "    if not isinstance(layer, tf.keras.layers.BatchNormalization):\n",
        "      layer.trainable = True\n",
        "  return model\n",
        "\n",
        "model = unfreeze_model(model)\n",
        "\n",
        "#complie model\n",
        "model.compile(\n",
        "    optimizer = tf.keras.optimizers.Adam(),\n",
        "    loss = tf.keras.losses.categorical_crossentropy,\n",
        "    metrics=['accuracy']\n",
        ")"
      ],
      "execution_count": 13,
      "outputs": []
    },
    {
      "cell_type": "code",
      "metadata": {
        "id": "qUdNy50pzdxd",
        "colab": {
          "base_uri": "https://localhost:8080/"
        },
        "outputId": "d4c0f4e0-b3a6-4a05-f3a3-b002ed59e11b"
      },
      "source": [
        "history = model.fit(\n",
        "    train_ds,\n",
        "    epochs=100,\n",
        "    validation_data = valid_ds,\n",
        "    steps_per_epoch=train_size//BATCH_SIZE,\n",
        "    callbacks=[es, mc, ca]\n",
        ")"
      ],
      "execution_count": null,
      "outputs": [
        {
          "output_type": "stream",
          "text": [
            "\n",
            "Epoch 00001: CosineAnnealingScheduler setting learning rate to 0.001.\n",
            "Epoch 1/100\n",
            "  2/577 [..............................] - ETA: 3:52 - loss: 0.1649 - accuracy: 0.9375WARNING:tensorflow:Callbacks method `on_train_batch_end` is slow compared to the batch time (batch time: 0.2654s vs `on_train_batch_end` time: 0.5508s). Check your callbacks.\n",
            "121/577 [=====>........................] - ETA: 7:57 - loss: 0.1711 - accuracy: 0.9449"
          ],
          "name": "stdout"
        }
      ]
    },
    {
      "cell_type": "code",
      "metadata": {
        "id": "daOj3jAl2ZVY"
      },
      "source": [
        "%matplotlib inline\n",
        "import matplotlib.pyplot as plt\n",
        "\n",
        "fig, loss_ax = plt.subplots()\n",
        "\n",
        "acc_ax = loss_ax.twinx()\n",
        "\n",
        "loss_ax.plot(history.history['loss'], 'y', label='train loss')\n",
        "loss_ax.plot(history.history['val_loss'], 'r', label='val loss')\n",
        "\n",
        "acc_ax.plot(history.history['accuracy'], 'b', label='train acc')\n",
        "acc_ax.plot(history.history['val_accuracy'], 'g', label='val acc')\n",
        "\n",
        "loss_ax.set_xlabel('epoch')\n",
        "loss_ax.set_ylabel('loss')\n",
        "acc_ax.set_ylabel('accuray')\n",
        "\n",
        "loss_ax.legend(loc='upper left')\n",
        "acc_ax.legend(loc='lower left')\n",
        "plt.title(max(history.history['val_accuracy']))\n",
        "plt.savefig(mc_dir_path + 'result.png')\n",
        "plt.show()"
      ],
      "execution_count": null,
      "outputs": []
    },
    {
      "cell_type": "code",
      "metadata": {
        "id": "j-fNUYAQMF2y"
      },
      "source": [
        "model.save(os.path.join(mc_dir_path, 'EfficientNetB0_aug.h5'))"
      ],
      "execution_count": null,
      "outputs": []
    },
    {
      "cell_type": "code",
      "metadata": {
        "id": "a5Xcgo7aZtjY"
      },
      "source": [
        ""
      ],
      "execution_count": null,
      "outputs": []
    }
  ]
}